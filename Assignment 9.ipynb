{
 "cells": [
  {
   "cell_type": "markdown",
   "id": "a7187982",
   "metadata": {},
   "source": [
    "1. To what does a relative path refer?"
   ]
  },
  {
   "cell_type": "raw",
   "id": "81a2e416",
   "metadata": {},
   "source": [
    "The relative path is the path to some file with respect to your current working directory (PWD)."
   ]
  },
  {
   "cell_type": "markdown",
   "id": "5f2ed286",
   "metadata": {},
   "source": [
    "2. What does an absolute path start with your operating system?"
   ]
  },
  {
   "cell_type": "raw",
   "id": "158d8233",
   "metadata": {},
   "source": [
    "Absolute paths start with the root folder, such as / or C:. An absolute path always contains the root elements and the complete list of directories to locate the specific file or folder. All the information required to locate the file or folder is available in the absolute path."
   ]
  },
  {
   "cell_type": "markdown",
   "id": "c7b54fa3",
   "metadata": {},
   "source": [
    "3. What do the functions os.getcwd() and os.chdir() do?"
   ]
  },
  {
   "cell_type": "raw",
   "id": "3add8efe",
   "metadata": {},
   "source": [
    "The os.getcwd() function returns the current working directory. The os.chdir() function changes the current working directory."
   ]
  },
  {
   "cell_type": "markdown",
   "id": "980cf370",
   "metadata": {},
   "source": [
    "4. What are the . and .. folders?"
   ]
  },
  {
   "cell_type": "raw",
   "id": "1d0d6b80",
   "metadata": {},
   "source": [
    "The . folder is the current folder, and .. is the parent folder."
   ]
  },
  {
   "cell_type": "markdown",
   "id": "0d5325a2",
   "metadata": {},
   "source": [
    "In C:\\bacon\\eggs\\spam.txt, which part is the dir name, and which part is the base name?"
   ]
  },
  {
   "cell_type": "raw",
   "id": "950a5ed6",
   "metadata": {},
   "source": [
    "dir name- C:\\bacon\\eggs\n",
    "base name - spam.txt"
   ]
  },
  {
   "cell_type": "markdown",
   "id": "0eb1e541",
   "metadata": {},
   "source": [
    "6. What are the three “mode” arguments that can be passed to the open() function?"
   ]
  },
  {
   "cell_type": "raw",
   "id": "63da88ca",
   "metadata": {},
   "source": [
    "r – Read Mode: This is the default mode for open(). The file is opened and a pointer is positioned at the beginning of the file’s content.\n",
    "\n",
    "w – Write Mode: Using this mode will overwrite any existing content in a file. If the given file does not exist, a new one will be created.\n",
    "a – Append Mode: With this mode the user can append the data without overwriting any already existing data in the file.\n"
   ]
  },
  {
   "cell_type": "markdown",
   "id": "704ffb7e",
   "metadata": {},
   "source": [
    "7. What happens if an existing file is opened in write mode?"
   ]
  },
  {
   "cell_type": "raw",
   "id": "91b35575",
   "metadata": {},
   "source": [
    "Using this mode will overwrite any existing content in a file. If the given file does not exist, a new one will be created."
   ]
  },
  {
   "cell_type": "markdown",
   "id": "6725e08d",
   "metadata": {},
   "source": [
    "8. How do you tell the difference between read() and readlines()?"
   ]
  },
  {
   "cell_type": "raw",
   "id": "e04c2538",
   "metadata": {},
   "source": [
    "The read() method returns the file's entire contents as a single string value. The readlines() method returns a list of strings, where each string is a line from the file's contents."
   ]
  },
  {
   "cell_type": "markdown",
   "id": "73b63add",
   "metadata": {},
   "source": [
    "9. What data structure does a shelf value resemble?"
   ]
  },
  {
   "cell_type": "raw",
   "id": "cd24dbbf",
   "metadata": {},
   "source": [
    "A shelf value resembles a dictionary value; it has keys and values, along with keys() and values() methods that work similarly to the dictionary methods of the same names."
   ]
  }
 ],
 "metadata": {
  "kernelspec": {
   "display_name": "Python 3 (ipykernel)",
   "language": "python",
   "name": "python3"
  },
  "language_info": {
   "codemirror_mode": {
    "name": "ipython",
    "version": 3
   },
   "file_extension": ".py",
   "mimetype": "text/x-python",
   "name": "python",
   "nbconvert_exporter": "python",
   "pygments_lexer": "ipython3",
   "version": "3.9.12"
  }
 },
 "nbformat": 4,
 "nbformat_minor": 5
}
