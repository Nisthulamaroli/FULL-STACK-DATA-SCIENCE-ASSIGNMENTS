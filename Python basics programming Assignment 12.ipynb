{
 "cells": [
  {
   "cell_type": "code",
   "execution_count": null,
   "id": "023160f4",
   "metadata": {},
   "outputs": [],
   "source": [
    "1. Write a Python program to Extract Unique values dictionary values?"
   ]
  },
  {
   "cell_type": "code",
   "execution_count": 3,
   "id": "981d3e10",
   "metadata": {},
   "outputs": [
    {
     "name": "stdout",
     "output_type": "stream",
     "text": [
      "dict_values(['A', 'B', 'C', 'A', 'B'])\n",
      "Unique values : ['C', 'B', 'A']\n"
     ]
    }
   ],
   "source": [
    "D1={'a':'A',\n",
    "    'b':'B',\n",
    "    'c':'C',\n",
    "    'ab':'A',\n",
    "    'bc':'B'\n",
    "   }\n",
    "a=D1.values()\n",
    "print(a)\n",
    "print(\"Unique values :\",list(set(a)))"
   ]
  },
  {
   "cell_type": "markdown",
   "id": "5e66871e",
   "metadata": {},
   "source": [
    "2. Write a Python program to find the sum of all items in a dictionary?"
   ]
  },
  {
   "cell_type": "code",
   "execution_count": 8,
   "id": "93c8a155",
   "metadata": {},
   "outputs": [
    {
     "name": "stdout",
     "output_type": "stream",
     "text": [
      "Sum of values : 10\n"
     ]
    }
   ],
   "source": [
    "D2={'A':1,\n",
    "    'B':2,\n",
    "    'C':3,\n",
    "    'D':4\n",
    "  \n",
    "}\n",
    "\n",
    "print(\"Sum of values :\",sum(D2.values()))"
   ]
  },
  {
   "cell_type": "markdown",
   "id": "6e4661c7",
   "metadata": {},
   "source": [
    "3. Write a Python program to Merging two Dictionaries?"
   ]
  },
  {
   "cell_type": "code",
   "execution_count": 12,
   "id": "fbb9754c",
   "metadata": {},
   "outputs": [
    {
     "name": "stdout",
     "output_type": "stream",
     "text": [
      "{'a': 'A', 'b': 'B', 'c': 'C', 'ab': 'A', 'bc': 'B', 'A': 1, 'B': 2, 'C': 3, 'D': 4}\n"
     ]
    }
   ],
   "source": [
    "D1={'a':'A',\n",
    "    'b':'B',\n",
    "    'c':'C',\n",
    "    'ab':'A',\n",
    "    'bc':'B'\n",
    "}\n",
    "D2={'A':1,\n",
    "    'B':2,\n",
    "    'C':3,\n",
    "    'D':4\n",
    "  \n",
    "}\n",
    "\n",
    "D1.update(D2)\n",
    "print(D1)"
   ]
  },
  {
   "cell_type": "markdown",
   "id": "13ee8c71",
   "metadata": {},
   "source": [
    "4. Write a Python program to convert key-values list to flat dictionary?"
   ]
  },
  {
   "cell_type": "code",
   "execution_count": 17,
   "id": "bc701f26",
   "metadata": {},
   "outputs": [
    {
     "name": "stdout",
     "output_type": "stream",
     "text": [
      "{'a': 10, 'b': 20, 'c': 30, 'd': 40}\n"
     ]
    }
   ],
   "source": [
    "list=[('a',10),('b',20),('c',30),('d',40)]\n",
    "D=dict(list)\n",
    "print(D)"
   ]
  },
  {
   "cell_type": "markdown",
   "id": "446d9cc7",
   "metadata": {},
   "source": [
    "5. Write a Python program to insertion at the beginning in OrderedDict?"
   ]
  },
  {
   "cell_type": "code",
   "execution_count": 27,
   "id": "c143b73c",
   "metadata": {},
   "outputs": [
    {
     "name": "stdout",
     "output_type": "stream",
     "text": [
      "OrderedDict([('grapes', 120), ('apple', 200), ('orange', 150), ('mango', 220)])\n"
     ]
    }
   ],
   "source": [
    "from collections import OrderedDict\n",
    "D1=OrderedDict([('apple',200),('orange',150),('mango',220)])\n",
    "D1.update({'grapes':120})\n",
    "D1.move_to_end('grapes',last=False)\n",
    "print(D1)"
   ]
  },
  {
   "cell_type": "markdown",
   "id": "3e690f1b",
   "metadata": {},
   "source": [
    "6. Write a Python program to check order of character in string using OrderedDict()?"
   ]
  },
  {
   "cell_type": "code",
   "execution_count": 29,
   "id": "3ce7e6a7",
   "metadata": {},
   "outputs": [
    {
     "name": "stdout",
     "output_type": "stream",
     "text": [
      "OrderedDict([('a', 10), ('b', 20), ('c', 30), ('d', 40), ('e', 50), ('f', 60)])\n"
     ]
    }
   ],
   "source": [
    "list=[('a',10),('c',30),('b',20),('d',40),('f',60),('e',50)]\n",
    "D=OrderedDict(dict(sorted(list)))\n",
    "print(D)"
   ]
  },
  {
   "cell_type": "markdown",
   "id": "d901e2e6",
   "metadata": {},
   "source": [
    "Write a Python program to sort Python Dictionaries by Key or Value?"
   ]
  },
  {
   "cell_type": "code",
   "execution_count": 37,
   "id": "9274376f",
   "metadata": {},
   "outputs": [
    {
     "name": "stdout",
     "output_type": "stream",
     "text": [
      "{'a': 10, 'c': 30, 'b': 20, 'd': 40, 'f': 60, 'e': 50}\n"
     ]
    }
   ],
   "source": [
    "list=[('a',10),('c',30),('b',20),('d',40),('f',60),('e',50)]\n",
    "D=dict(list)\n",
    "print(D)"
   ]
  },
  {
   "cell_type": "code",
   "execution_count": 39,
   "id": "192d3a6b",
   "metadata": {},
   "outputs": [
    {
     "name": "stdout",
     "output_type": "stream",
     "text": [
      "{'a': 10, 'b': 20, 'c': 30, 'd': 40, 'e': 50, 'f': 60}\n",
      "{'a': 10, 'b': 20, 'c': 30, 'd': 40, 'e': 50, 'f': 60}\n"
     ]
    }
   ],
   "source": [
    "D={'a': 10, 'c': 30, 'b': 20, 'd': 40, 'f': 60, 'e': 50}\n",
    "def sort_dict(D,sort_type):\n",
    "    if sort_type == 'key':\n",
    "        print(dict(sorted(D.items(), key=lambda x:x[0], reverse=False)))\n",
    "    else:\n",
    "        print(dict(sorted(D.items(), key=lambda x:x[1], reverse=False)))\n",
    "        \n",
    "sort_dict(D,'key')        \n",
    "sort_dict(D,'value')"
   ]
  },
  {
   "cell_type": "code",
   "execution_count": null,
   "id": "1d3f3bfc",
   "metadata": {},
   "outputs": [],
   "source": []
  }
 ],
 "metadata": {
  "kernelspec": {
   "display_name": "Python 3 (ipykernel)",
   "language": "python",
   "name": "python3"
  },
  "language_info": {
   "codemirror_mode": {
    "name": "ipython",
    "version": 3
   },
   "file_extension": ".py",
   "mimetype": "text/x-python",
   "name": "python",
   "nbconvert_exporter": "python",
   "pygments_lexer": "ipython3",
   "version": "3.9.12"
  }
 },
 "nbformat": 4,
 "nbformat_minor": 5
}
