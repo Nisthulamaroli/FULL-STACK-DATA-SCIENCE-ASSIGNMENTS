{
 "cells": [
  {
   "cell_type": "markdown",
   "id": "5a10e3bc",
   "metadata": {},
   "source": [
    "1. Describe the differences between text and binary files in a single paragraph."
   ]
  },
  {
   "cell_type": "raw",
   "id": "6eb57e00",
   "metadata": {},
   "source": [
    "Text files are special subset of binary files that are used to store human readable characters as a rich text document or plain text document. Text files also store data in sequential bytes but bits in text file represents characters.\n",
    "\n",
    "Binary files are those typical files that store data in the form of sequence of bytes grouped into eight bits or sometimes sixteen bits. These bits represent custom data and such files can store multiple types of data (images, audio, text, etc) under a single file."
   ]
  },
  {
   "cell_type": "markdown",
   "id": "0080b939",
   "metadata": {},
   "source": [
    "2. What are some scenarios where using text files will be the better option? When would you like to use binary files instead of text files?"
   ]
  },
  {
   "cell_type": "raw",
   "id": "e6b2e563",
   "metadata": {},
   "source": [
    "Text files are less prone to get corrupted as any undesired change may just show up once the file is opened and then can easily be removed. Whereas Use binary files instead of text files for image data."
   ]
  },
  {
   "cell_type": "markdown",
   "id": "129cd468",
   "metadata": {},
   "source": [
    "3. What are some of the issues with using binary operations to read and write a Python integer directly to disc?"
   ]
  },
  {
   "cell_type": "raw",
   "id": "9ab7d920",
   "metadata": {},
   "source": [
    "When we read or write a python integer using binary operations\n",
    "\n",
    "Binary operations deal with raw data\n",
    "One needs to identify how many bytes one would read or write."
   ]
  },
  {
   "cell_type": "markdown",
   "id": "4f17bb96",
   "metadata": {},
   "source": [
    "4. Describe a benefit of using the with keyword instead of explicitly opening a file ?"
   ]
  },
  {
   "cell_type": "raw",
   "id": "18db00f2",
   "metadata": {},
   "source": [
    "When a file is opened using the with keyword, if some exceptions occur after opening a file, or at the end of the file it automatically does the closing of the file. There by not leaving an file in open mode and there would no need to explicitly close a file."
   ]
  },
  {
   "cell_type": "markdown",
   "id": "922e52c6",
   "metadata": {},
   "source": [
    "5. Does Python have the trailing newline while reading a line of text? Does Python append a newline when you write a line of text?"
   ]
  },
  {
   "cell_type": "raw",
   "id": "ba0f9c2a",
   "metadata": {},
   "source": [
    "Yes, Python have the trailing newline while reading a line of text. When we write a newline has to be provided in python excpicitly."
   ]
  },
  {
   "cell_type": "markdown",
   "id": "5b6a17a7",
   "metadata": {},
   "source": [
    "6. What file operations enable for random-access operation?"
   ]
  },
  {
   "cell_type": "raw",
   "id": "05d0fd3b",
   "metadata": {},
   "source": [
    "The file operations enable for random-access operation are seek() and tell()"
   ]
  },
  {
   "cell_type": "markdown",
   "id": "ab37b7c9",
   "metadata": {},
   "source": [
    "7. When do you think you'll use the struct package the most?"
   ]
  },
  {
   "cell_type": "raw",
   "id": "d086c766",
   "metadata": {},
   "source": [
    "The struct package is mostly used while converting a common python types into C language types."
   ]
  },
  {
   "cell_type": "markdown",
   "id": "a8960385",
   "metadata": {},
   "source": [
    "8. When is pickling the best option?"
   ]
  },
  {
   "cell_type": "raw",
   "id": "64c91f67",
   "metadata": {},
   "source": [
    "Pickling is best option for creating a new binary file using python."
   ]
  },
  {
   "cell_type": "markdown",
   "id": "baec0394",
   "metadata": {},
   "source": [
    "9. When will it be best to use the shelve package?"
   ]
  },
  {
   "cell_type": "raw",
   "id": "f110ca1b",
   "metadata": {},
   "source": [
    "Shelve package is used to pickle data but treats the entire file as dictionary."
   ]
  },
  {
   "cell_type": "markdown",
   "id": "5d3bdbcc",
   "metadata": {},
   "source": [
    "10. What is a special restriction when using the shelve package, as opposed to using other data dictionaries?"
   ]
  },
  {
   "cell_type": "raw",
   "id": "9715e91f",
   "metadata": {},
   "source": [
    "Only string data type can be used as key in this special dictionary object, whereas any picklable Python object can be used as value."
   ]
  }
 ],
 "metadata": {
  "kernelspec": {
   "display_name": "Python 3 (ipykernel)",
   "language": "python",
   "name": "python3"
  },
  "language_info": {
   "codemirror_mode": {
    "name": "ipython",
    "version": 3
   },
   "file_extension": ".py",
   "mimetype": "text/x-python",
   "name": "python",
   "nbconvert_exporter": "python",
   "pygments_lexer": "ipython3",
   "version": "3.9.12"
  }
 },
 "nbformat": 4,
 "nbformat_minor": 5
}
