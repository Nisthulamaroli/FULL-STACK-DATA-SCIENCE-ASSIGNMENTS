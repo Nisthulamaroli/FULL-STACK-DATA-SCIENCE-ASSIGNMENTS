{
 "cells": [
  {
   "cell_type": "markdown",
   "id": "c351ae28",
   "metadata": {},
   "source": [
    "1. Write a Python program to find words which are greater than given length k?"
   ]
  },
  {
   "cell_type": "code",
   "execution_count": 3,
   "id": "ba0bd854",
   "metadata": {},
   "outputs": [
    {
     "name": "stdout",
     "output_type": "stream",
     "text": [
      "Enter the string:hi i am nisthula and i am a student of ineuron\n",
      "Enter the length:5\n",
      "Words are: ['nisthula', 'student', 'ineuron']\n"
     ]
    }
   ],
   "source": [
    "def length():\n",
    "    string=input(\"Enter the string:\")\n",
    "    given_length=int(input(\"Enter the length:\"))\n",
    "    output=[]\n",
    "    for i in string.split(\" \"):\n",
    "        if len(i)>given_length:\n",
    "            output.append(i)\n",
    "    print(\"Words are:\",output)\n",
    "        \n",
    "length()\n",
    "             "
   ]
  },
  {
   "cell_type": "markdown",
   "id": "e6b954fe",
   "metadata": {},
   "source": [
    "2. Write a Python program for removing i-th character from a string?"
   ]
  },
  {
   "cell_type": "code",
   "execution_count": 11,
   "id": "56956a82",
   "metadata": {},
   "outputs": [
    {
     "name": "stdout",
     "output_type": "stream",
     "text": [
      "Enter the string:hi i am nisthula and i am a student of ineuron\n",
      "Enter the length:5\n",
      "The string after removing the  {5} character is : hi i m nisthula and i am a student of ineuron\n"
     ]
    }
   ],
   "source": [
    "def remove():\n",
    "    string=input(\"Enter the string:\")\n",
    "    given_length=int(input(\"Enter the length:\"))\n",
    "    output=\"\"\n",
    "    for i in range(len(string)):\n",
    "        if i!=given_length:\n",
    "            output=output+string[i]\n",
    "    print(\"The string after removing the \",{given_length}, \"character is :\",output)\n",
    "        \n",
    "        \n",
    "remove()"
   ]
  },
  {
   "cell_type": "markdown",
   "id": "7e922fdf",
   "metadata": {},
   "source": [
    "3. Write a Python program to split and join a string?"
   ]
  },
  {
   "cell_type": "code",
   "execution_count": 12,
   "id": "fb60bbdc",
   "metadata": {},
   "outputs": [
    {
     "name": "stdout",
     "output_type": "stream",
     "text": [
      "Enter the string: hi i am nisthula and i am a student of ineuron\n",
      "Split String: ['hi', 'i', 'am', 'nisthula', 'and', 'i', 'am', 'a', 'student', 'of', 'ineuron']\n",
      "Join String: hi i am nisthula and i am a student of ineuron\n"
     ]
    }
   ],
   "source": [
    "def splitJoinString():\n",
    "    in_string = input('Enter the string: ')\n",
    "    print(f\"Split String: {in_string.split(' ')}\")\n",
    "    print(f\"Join String: {' '.join(in_string.split(' '))}\")\n",
    "\n",
    "splitJoinString()"
   ]
  },
  {
   "cell_type": "markdown",
   "id": "56013dbe",
   "metadata": {},
   "source": [
    "4. Write a Python to check if a given string is binary string or not?"
   ]
  },
  {
   "cell_type": "code",
   "execution_count": 7,
   "id": "bd8c5fdd",
   "metadata": {},
   "outputs": [
    {
     "name": "stdout",
     "output_type": "stream",
     "text": [
      "Enter the string:0110011023\n",
      "The given string isnot a binary string\n"
     ]
    }
   ],
   "source": [
    "def binary():\n",
    "    string=input(\"Enter the string:\")\n",
    "    for i in string:\n",
    "        if i in ('0','1'):\n",
    "            b=1\n",
    "            continue\n",
    "        else:\n",
    "            b=0\n",
    "            break\n",
    "    if b==1:\n",
    "        print(\"The given string is a binary string\")\n",
    "    else:\n",
    "        print(\"The given string isnot a binary string\")\n",
    "        \n",
    "binary()"
   ]
  },
  {
   "cell_type": "markdown",
   "id": "fc450515",
   "metadata": {},
   "source": [
    "5. Write a Python program to find uncommon words from two Strings?"
   ]
  },
  {
   "cell_type": "code",
   "execution_count": 12,
   "id": "99804c6d",
   "metadata": {},
   "outputs": [
    {
     "name": "stdout",
     "output_type": "stream",
     "text": [
      "Enter the String 1: Hi\n",
      "Enter the String 2: Hi how are you\n",
      "{'are', 'how', 'you'}\n"
     ]
    }
   ],
   "source": [
    "def unCommonWords():\n",
    "    in_string_1 = set(input(\"Enter the String 1: \").split(' '))\n",
    "    in_string_2 = set(input(\"Enter the String 2: \").split(' '))\n",
    "    out_string = (in_string_1.union(in_string_2)).difference(in_string_1.intersection(in_string_2))\n",
    "    print(out_string)\n",
    "\n",
    "unCommonWords()"
   ]
  },
  {
   "cell_type": "markdown",
   "id": "e931787a",
   "metadata": {},
   "source": [
    "6. Write a Python to find all duplicate characters in string?"
   ]
  },
  {
   "cell_type": "code",
   "execution_count": 15,
   "id": "e9e2798e",
   "metadata": {},
   "outputs": [
    {
     "name": "stdout",
     "output_type": "stream",
     "text": [
      "Enter the string:hi there hi, how are you,you..\n",
      "['h', 'e', ' ', 'h', 'i', ' ', 'h', ' ', 'r', 'e', ' ', 'o', ',', 'y', 'o', 'u', '.']\n"
     ]
    }
   ],
   "source": [
    "def duplicates():\n",
    "    list=[]\n",
    "    duplicate_list=[]\n",
    "    \n",
    "    string=input(\"Enter the string:\")\n",
    "    for i in string:\n",
    "        if i not in list:\n",
    "            list.append(i)\n",
    "        else:\n",
    "            duplicate_list.append(i)\n",
    "    print(duplicate_list)\n",
    "    \n",
    "\n",
    "        \n",
    "duplicates()"
   ]
  },
  {
   "cell_type": "markdown",
   "id": "60e24dc8",
   "metadata": {},
   "source": [
    "7. Write a Python Program to check if a string contains any special character?"
   ]
  },
  {
   "cell_type": "code",
   "execution_count": 19,
   "id": "fd23b36f",
   "metadata": {},
   "outputs": [
    {
     "name": "stdout",
     "output_type": "stream",
     "text": [
      "Enter the string:Hi,how are you@\n",
      "Special characters present: 2 [',', '@']\n"
     ]
    }
   ],
   "source": [
    "def special():\n",
    "    string=input(\"Enter the string:\")\n",
    "    special_character=['~', ':', \"'\", '+', '[', '\\\\', '@', '^', '{', '%', '(', '-', '\"', '*', '|', ',', '&', '<', '`', '}']\n",
    "    count=0\n",
    "    s1=[]\n",
    "    for i in string:\n",
    "        if i in special_character:\n",
    "            count=count+1\n",
    "            s1.append(i)\n",
    "    print(\"Special characters present:\",count,s1)\n",
    "\n",
    "        \n",
    "special()"
   ]
  },
  {
   "cell_type": "code",
   "execution_count": null,
   "id": "414c7df6",
   "metadata": {},
   "outputs": [],
   "source": []
  }
 ],
 "metadata": {
  "kernelspec": {
   "display_name": "Python 3 (ipykernel)",
   "language": "python",
   "name": "python3"
  },
  "language_info": {
   "codemirror_mode": {
    "name": "ipython",
    "version": 3
   },
   "file_extension": ".py",
   "mimetype": "text/x-python",
   "name": "python",
   "nbconvert_exporter": "python",
   "pygments_lexer": "ipython3",
   "version": "3.9.12"
  }
 },
 "nbformat": 4,
 "nbformat_minor": 5
}
