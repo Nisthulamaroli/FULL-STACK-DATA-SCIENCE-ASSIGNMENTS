{
 "cells": [
  {
   "cell_type": "markdown",
   "id": "5fe60e02",
   "metadata": {},
   "source": [
    "1. What is the relationship between classes and modules?"
   ]
  },
  {
   "cell_type": "raw",
   "id": "bc13be68",
   "metadata": {},
   "source": [
    "Classes are blueprints that allow you to create instances with attributes and bound functionality. Classes support inheritance, metaclasses, and descriptors.Every time a class object is instantiated, which is when we declare a variable, a new object is initiated from scratch.\n",
    "Whereas in Python, Modules are simply files with the . py extension containing Python code that can be imported inside another Python Program. In simple terms, we can consider a module to be the same as a code library or a file that contains a set of functions/Classes that you want to include in your application."
   ]
  },
  {
   "cell_type": "markdown",
   "id": "94cb8f55",
   "metadata": {},
   "source": [
    "2. How do you make instances and classes?"
   ]
  },
  {
   "cell_type": "code",
   "execution_count": null,
   "id": "f83290b2",
   "metadata": {},
   "outputs": [],
   "source": [
    "For class creation we use the below.\n",
    "Class number:\n",
    "    def __init__(self,a,b):\n",
    "        self.a=a\n",
    "        self.b=b\n",
    "        \n",
    "To create instances of a class, you call the class using class name and pass in whatever arguments its init method accepts.\n",
    "\n",
    "c=number(2,3)\n",
    "d=number(5,6)\n",
    "        "
   ]
  },
  {
   "cell_type": "markdown",
   "id": "d4f7c9c0",
   "metadata": {},
   "source": [
    "3. Where and how should be class attributes created?"
   ]
  },
  {
   "cell_type": "raw",
   "id": "d4661fbe",
   "metadata": {},
   "source": [
    "Class attributes or Class level Attributes belong to the class itself. these attributes will be shared by all the instances of the class. Hence these attributes are usually created/defined in the top of class definiation outside all methods.\n",
    "\n"
   ]
  },
  {
   "cell_type": "code",
   "execution_count": 1,
   "id": "e48a2561",
   "metadata": {},
   "outputs": [],
   "source": [
    "class ineuron:\n",
    "    batch_name='FSDS'\n",
    "    def __init__(self,duration,price):\n",
    "        self.duration=duration\n",
    "        self.price=price"
   ]
  },
  {
   "cell_type": "raw",
   "id": "72665683",
   "metadata": {},
   "source": [
    "Here batch_name='FSDS' is class attribute.\n",
    "duration,price are instance attributes."
   ]
  },
  {
   "cell_type": "markdown",
   "id": "60931c4f",
   "metadata": {},
   "source": [
    "4. Where and how are instance attributes created?"
   ]
  },
  {
   "cell_type": "raw",
   "id": "4f7831d3",
   "metadata": {},
   "source": [
    "Instances attributes are passed to the class when an object of the class is created. Unlike class attributes, instance attributes are not shared by all objects of the classs. Instead each object maintains its own copy of instance attributes at object level whereas incase of class attributes, all instances of class refer to a single copy. Usually instance attributes are defined within the init method of class."
   ]
  },
  {
   "cell_type": "code",
   "execution_count": 3,
   "id": "a05f1ae2",
   "metadata": {},
   "outputs": [],
   "source": [
    "class ineuron:\n",
    "    def __init__(self,duration,mentor):\n",
    "        self.duration=duration\n",
    "        self.mentor=mentor\n",
    "        \n",
    "        \n",
    "Python=ineuron('5 months','Sudhanshu')\n",
    "stats=ineuron('2 months','Krish')\n",
    "\n",
    "Python and stats are 2 instances of the class ineuro  with different attributes."
   ]
  },
  {
   "cell_type": "markdown",
   "id": "7f8aa055",
   "metadata": {},
   "source": [
    "5. What does the term &quot;self&quot; in a Python class mean?"
   ]
  },
  {
   "cell_type": "raw",
   "id": "787565f0",
   "metadata": {},
   "source": [
    "self represents the instance of the class (it represents the object itself). By using the “self” keyword we can access the attributes and methods of the class with in the class in python. It binds the attributes with the given arguments."
   ]
  },
  {
   "cell_type": "code",
   "execution_count": 6,
   "id": "292cd003",
   "metadata": {},
   "outputs": [
    {
     "name": "stdout",
     "output_type": "stream",
     "text": [
      "{'duration': '5 months', 'mentor': 'Sudhanshu'}\n",
      "{'duration': '2 months', 'mentor': 'Krish'}\n"
     ]
    }
   ],
   "source": [
    "class ineuron:\n",
    "    def __init__(self,duration,mentor):\n",
    "        self.duration=duration\n",
    "        self.mentor=mentor\n",
    "        \n",
    "        \n",
    "Python=ineuron('5 months','Sudhanshu')\n",
    "stats=ineuron('2 months','Krish')\n",
    "\n",
    "print(Python.__dict__)\n",
    "print(stats.__dict__)"
   ]
  },
  {
   "cell_type": "markdown",
   "id": "279bf364",
   "metadata": {},
   "source": [
    "6. How does a Python class handle operator overloading?"
   ]
  },
  {
   "cell_type": "raw",
   "id": "6aa82851",
   "metadata": {},
   "source": [
    "Python Classes handle operator overloading by using special methods called Magic methods. These special methods usually begin and end with __ (double underscore)\n",
    "Example: Magic methods for basic arithmetic operators are:\n",
    "\n",
    "+ -> __add__()\n",
    "\n",
    "- -> __sub__()\n",
    "\n",
    "* -> __mul__() \n",
    "\n",
    "/ -> __div__()"
   ]
  },
  {
   "cell_type": "code",
   "execution_count": 10,
   "id": "1d06887d",
   "metadata": {},
   "outputs": [
    {
     "name": "stdout",
     "output_type": "stream",
     "text": [
      "FSDS is handled by Sudhanshu5 monthsKrish2 months\n"
     ]
    }
   ],
   "source": [
    "class ineuron:\n",
    "    def __init__(self,duration,mentor):\n",
    "        self.duration=duration\n",
    "        self.mentor=mentor\n",
    "    def __add__(self,other):\n",
    "        return self.mentor+self.duration+other.mentor+other.duration\n",
    "        \n",
    "        \n",
    "Python=ineuron('5 months','Sudhanshu')\n",
    "stats=ineuron('2 months','Krish')\n",
    "print(f'FSDS is handled by {Python+stats}')"
   ]
  },
  {
   "cell_type": "markdown",
   "id": "c18a8e97",
   "metadata": {},
   "source": [
    "7. When do you consider allowing operator overloading of your classes?"
   ]
  },
  {
   "cell_type": "raw",
   "id": "ce4bd806",
   "metadata": {},
   "source": [
    "When we want to have different meaning for the same operator accroding to the context we use operator overloading.For example operator + is used to add two integers as well as join two strings and merge two lists. It is achievable because ‘+’ operator is overloaded by int class and str class."
   ]
  },
  {
   "cell_type": "code",
   "execution_count": 18,
   "id": "00af36e7",
   "metadata": {},
   "outputs": [
    {
     "name": "stdout",
     "output_type": "stream",
     "text": [
      "3\n",
      "HiHow are you\n",
      "30\n",
      "HelloHelloHelloHelloHello\n"
     ]
    }
   ],
   "source": [
    "print(1+2)\n",
    "print(\"Hi\"+\"How are you\")\n",
    "\n",
    "print(5*6)\n",
    "print(\"Hello\"*5)"
   ]
  },
  {
   "cell_type": "markdown",
   "id": "d6342a26",
   "metadata": {},
   "source": [
    "8. What is the most popular form of operator overloading?"
   ]
  },
  {
   "cell_type": "raw",
   "id": "93da6b6a",
   "metadata": {},
   "source": [
    "The most popular form of operator overloading in python is by special methods called Magic methods. Which usually beign and end with double underscore __<method name>__."
   ]
  },
  {
   "cell_type": "code",
   "execution_count": 12,
   "id": "3dc59fa6",
   "metadata": {},
   "outputs": [],
   "source": [
    "class numbers:\n",
    "    def __init__(self,a):\n",
    "        self.a=a\n",
    "    def __add__(self,other):\n",
    "        return self.a+other.a\n",
    "  \n"
   ]
  },
  {
   "cell_type": "code",
   "execution_count": 16,
   "id": "33bc5198",
   "metadata": {},
   "outputs": [
    {
     "name": "stdout",
     "output_type": "stream",
     "text": [
      "sum: 3\n",
      "ineuronFSDS\n"
     ]
    }
   ],
   "source": [
    "a=numbers(1)\n",
    "b=numbers(2)\n",
    "print(\"sum:\",a+b)\n",
    "\n",
    "c=\"ineuron\"\n",
    "d=\"FSDS\"\n",
    "print(c+d)\n"
   ]
  },
  {
   "cell_type": "markdown",
   "id": "6ac85b1e",
   "metadata": {},
   "source": [
    "9. What are the two most important concepts to grasp in order to comprehend Python OOP code?"
   ]
  },
  {
   "cell_type": "raw",
   "id": "3fbde391",
   "metadata": {},
   "source": [
    "Classes and objects are the two most important concepts to grasp in order to comprehend python OOP code as more formally objects are entities that represent instances of general abstract concept called class.\n",
    "\n",
    "Along with classes and objects the important concepts to grasp are:\n",
    "\n",
    "1.Inheritence\n",
    "\n",
    "2.Abstraction\n",
    "\n",
    "3.Polymorphism\n",
    "\n",
    "4.Encapsulation"
   ]
  }
 ],
 "metadata": {
  "kernelspec": {
   "display_name": "Python 3 (ipykernel)",
   "language": "python",
   "name": "python3"
  },
  "language_info": {
   "codemirror_mode": {
    "name": "ipython",
    "version": 3
   },
   "file_extension": ".py",
   "mimetype": "text/x-python",
   "name": "python",
   "nbconvert_exporter": "python",
   "pygments_lexer": "ipython3",
   "version": "3.9.12"
  }
 },
 "nbformat": 4,
 "nbformat_minor": 5
}
