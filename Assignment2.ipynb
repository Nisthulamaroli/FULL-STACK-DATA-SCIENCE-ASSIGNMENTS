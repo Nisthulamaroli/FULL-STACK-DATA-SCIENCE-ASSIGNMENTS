{
 "cells": [
  {
   "cell_type": "markdown",
   "id": "79adf06a",
   "metadata": {},
   "source": [
    "1.What are the two values of the Boolean data type? How do you write them?"
   ]
  },
  {
   "cell_type": "raw",
   "id": "f5e3cdd8",
   "metadata": {},
   "source": [
    "True and False are the 2 values of boolean datatype. The first letter is written in capital letters, ie True and False"
   ]
  },
  {
   "cell_type": "code",
   "execution_count": 1,
   "id": "ef6321e7",
   "metadata": {},
   "outputs": [
    {
     "name": "stdout",
     "output_type": "stream",
     "text": [
      "True\n",
      "False\n"
     ]
    }
   ],
   "source": [
    "a=True\n",
    "b=False\n",
    "print(a)\n",
    "print(b)"
   ]
  },
  {
   "cell_type": "markdown",
   "id": "2d10b015",
   "metadata": {},
   "source": [
    "2. What are the three different types of Boolean operators?"
   ]
  },
  {
   "cell_type": "raw",
   "id": "74c986d2",
   "metadata": {},
   "source": [
    "and operator\n",
    "or operator\n",
    "not operator\n"
   ]
  },
  {
   "cell_type": "markdown",
   "id": "5692974a",
   "metadata": {},
   "source": [
    "3. Make a list of each Boolean operator's truth tables (i.e. every possible combination of Boolean values for the operator and what it evaluate )."
   ]
  },
  {
   "cell_type": "raw",
   "id": "60065d3d",
   "metadata": {},
   "source": [
    "AND truth table\n",
    "A      B      Output\n",
    "False  False  False\n",
    "False  True   False\n",
    "True   False  False\n",
    "True   True   True  \n",
    "\n",
    "OR truth table\n",
    "A      B      Output\n",
    "False  False  False\n",
    "False  True   True\n",
    "True   False  True\n",
    "True   True   True  \n",
    "\n",
    "NOT truth table\n",
    "A      Output\n",
    "False  True\n",
    "True   False \n"
   ]
  },
  {
   "cell_type": "markdown",
   "id": "c6d7caa9",
   "metadata": {},
   "source": [
    "4. What are the values of the following expressions?\n",
    "(5 > 4) and (3 == 5)\n",
    "not (5 > 4)\n",
    "(5 > 4) or (3 == 5)\n",
    "not ((5 > 4) or (3 == 5))\n",
    "(True and True) and (True == False)\n",
    "(not False) or (not True)\n"
   ]
  },
  {
   "cell_type": "raw",
   "id": "0b791ecc",
   "metadata": {},
   "source": [
    "5>4 = True,3==5 = False. So True and False = False"
   ]
  },
  {
   "cell_type": "code",
   "execution_count": 2,
   "id": "970d7e97",
   "metadata": {},
   "outputs": [
    {
     "data": {
      "text/plain": [
       "False"
      ]
     },
     "execution_count": 2,
     "metadata": {},
     "output_type": "execute_result"
    }
   ],
   "source": [
    "(5 > 4) and (3 == 5)"
   ]
  },
  {
   "cell_type": "raw",
   "id": "b9b9deff",
   "metadata": {},
   "source": [
    "5>4 = True. So not True = False"
   ]
  },
  {
   "cell_type": "code",
   "execution_count": 3,
   "id": "a8b1cc7c",
   "metadata": {},
   "outputs": [
    {
     "data": {
      "text/plain": [
       "False"
      ]
     },
     "execution_count": 3,
     "metadata": {},
     "output_type": "execute_result"
    }
   ],
   "source": [
    "not (5 > 4)"
   ]
  },
  {
   "cell_type": "raw",
   "id": "6e629731",
   "metadata": {},
   "source": [
    "5>4 = True, 3==5 = False So True or False = True"
   ]
  },
  {
   "cell_type": "code",
   "execution_count": 4,
   "id": "e50d9819",
   "metadata": {},
   "outputs": [
    {
     "data": {
      "text/plain": [
       "True"
      ]
     },
     "execution_count": 4,
     "metadata": {},
     "output_type": "execute_result"
    }
   ],
   "source": [
    "(5 > 4) or (3 == 5)"
   ]
  },
  {
   "cell_type": "raw",
   "id": "8ceeb998",
   "metadata": {},
   "source": [
    "5>4 = True,3==5 = False. So not True or False= False or False = False"
   ]
  },
  {
   "cell_type": "code",
   "execution_count": 5,
   "id": "e9ef7cce",
   "metadata": {},
   "outputs": [
    {
     "data": {
      "text/plain": [
       "False"
      ]
     },
     "execution_count": 5,
     "metadata": {},
     "output_type": "execute_result"
    }
   ],
   "source": [
    "not ((5 > 4) or (3 == 5))"
   ]
  },
  {
   "cell_type": "raw",
   "id": "fcc09629",
   "metadata": {},
   "source": [
    "True and True = True,True==False = False. So True and False = False"
   ]
  },
  {
   "cell_type": "code",
   "execution_count": 6,
   "id": "3beff299",
   "metadata": {},
   "outputs": [
    {
     "data": {
      "text/plain": [
       "False"
      ]
     },
     "execution_count": 6,
     "metadata": {},
     "output_type": "execute_result"
    }
   ],
   "source": [
    "(True and True) and (True == False)"
   ]
  },
  {
   "cell_type": "raw",
   "id": "c4bf963e",
   "metadata": {},
   "source": [
    "not False = True, Bot True = False. So True or False = True"
   ]
  },
  {
   "cell_type": "code",
   "execution_count": 7,
   "id": "fa1a529c",
   "metadata": {},
   "outputs": [
    {
     "data": {
      "text/plain": [
       "True"
      ]
     },
     "execution_count": 7,
     "metadata": {},
     "output_type": "execute_result"
    }
   ],
   "source": [
    "(not False) or (not True)"
   ]
  },
  {
   "cell_type": "markdown",
   "id": "92d50b4c",
   "metadata": {},
   "source": [
    "5. What are the six comparison operators?"
   ]
  },
  {
   "cell_type": "raw",
   "id": "cff1e4d0",
   "metadata": {},
   "source": [
    "==   Equal to\n",
    "!=   Not equal to\n",
    "<    Less than\n",
    "<=   Less than or equal to\n",
    ">    Greater than\n",
    ">=   Greater than or equal to"
   ]
  },
  {
   "cell_type": "markdown",
   "id": "644c472d",
   "metadata": {},
   "source": [
    "6. How do you tell the difference between the equal to and assignment operators?Describe a condition and when you would use one."
   ]
  },
  {
   "cell_type": "raw",
   "id": "448168b4",
   "metadata": {},
   "source": [
    "Equal to operator is used to compare 2 values and evaluate it to a boolean variable.It is denoted as ==\n",
    "Eg : if 10==29:\n",
    "        print (True)\n",
    "     else :\n",
    "         print(False)\n",
    "Assignment operator is used to store a value in a variable. It is denoted as =\n",
    "Eg :  x=3"
   ]
  },
  {
   "cell_type": "code",
   "execution_count": 8,
   "id": "6eb88fd2",
   "metadata": {},
   "outputs": [
    {
     "name": "stdout",
     "output_type": "stream",
     "text": [
      "False\n"
     ]
    }
   ],
   "source": [
    "# Equal to operator\n",
    "if 10==29:\n",
    "    print (True)\n",
    "else :\n",
    "    print(False)"
   ]
  },
  {
   "cell_type": "code",
   "execution_count": 25,
   "id": "dee59e0f",
   "metadata": {},
   "outputs": [
    {
     "name": "stdout",
     "output_type": "stream",
     "text": [
      "3\n"
     ]
    }
   ],
   "source": [
    "# assignment operator\n",
    "\n",
    "x=3\n",
    "print(x)\n"
   ]
  },
  {
   "cell_type": "markdown",
   "id": "25283f19",
   "metadata": {},
   "source": [
    "7. Identify the three blocks in this code:\n",
    "spam = 0\n",
    "if spam == 10:\n",
    "print('eggs')\n",
    "if spam > 5:\n",
    "print('bacon')\n",
    "else:\n",
    "print('ham')\n",
    "print('spam')\n",
    "print('spam')\n"
   ]
  },
  {
   "cell_type": "code",
   "execution_count": 10,
   "id": "bdc9ff7f",
   "metadata": {},
   "outputs": [
    {
     "name": "stdout",
     "output_type": "stream",
     "text": [
      "ham\n",
      "spam\n",
      "spam\n"
     ]
    }
   ],
   "source": [
    "spam = 0\n",
    "if spam == 10:\n",
    "    print('eggs') # 1st block\n",
    "if spam > 5:\n",
    "    print('bacon') # 2nd block\n",
    "else:\n",
    "    print('ham') #3rd block\n",
    "print('spam')\n",
    "print('spam')\n"
   ]
  },
  {
   "cell_type": "markdown",
   "id": "5ebdc4ec",
   "metadata": {},
   "source": [
    "8. Write code that prints Hello if 1 is stored in spam, prints Howdy if 2 is stored in spam, and prints Greetings! if anything else is stored in spam."
   ]
  },
  {
   "cell_type": "code",
   "execution_count": 12,
   "id": "8cbad6b1",
   "metadata": {},
   "outputs": [],
   "source": [
    "def fun1(spam):\n",
    "    if spam==1:\n",
    "        print(\"Hello\")\n",
    "    elif spam==2:\n",
    "        print(\"Howdy\")\n",
    "    else:\n",
    "        print(\"Greetings!\")"
   ]
  },
  {
   "cell_type": "code",
   "execution_count": 13,
   "id": "19fe347c",
   "metadata": {},
   "outputs": [
    {
     "name": "stdout",
     "output_type": "stream",
     "text": [
      "Hello\n"
     ]
    }
   ],
   "source": [
    "fun1(1)"
   ]
  },
  {
   "cell_type": "code",
   "execution_count": 14,
   "id": "e387f1f4",
   "metadata": {},
   "outputs": [
    {
     "name": "stdout",
     "output_type": "stream",
     "text": [
      "Howdy\n"
     ]
    }
   ],
   "source": [
    "fun1(2)"
   ]
  },
  {
   "cell_type": "code",
   "execution_count": 15,
   "id": "7790ca4c",
   "metadata": {},
   "outputs": [
    {
     "name": "stdout",
     "output_type": "stream",
     "text": [
      "Greetings!\n"
     ]
    }
   ],
   "source": [
    "fun1(5)"
   ]
  },
  {
   "cell_type": "markdown",
   "id": "36482acc",
   "metadata": {},
   "source": [
    "9.If your programme is stuck in an endless loop, what keys you’ll press?"
   ]
  },
  {
   "cell_type": "raw",
   "id": "acec27c6",
   "metadata": {},
   "source": [
    "ctrl +  c"
   ]
  },
  {
   "cell_type": "markdown",
   "id": "ab382dce",
   "metadata": {},
   "source": [
    "10. How can you tell the difference between break and continue?"
   ]
  },
  {
   "cell_type": "raw",
   "id": "7cc707b3",
   "metadata": {},
   "source": [
    "Break statement will move the execution outside the loop if the condition is satisfied.\n",
    "Continue statement will move the execution to the start of the loop."
   ]
  },
  {
   "cell_type": "markdown",
   "id": "6eee0a11",
   "metadata": {},
   "source": [
    "11. In a for loop, what is the difference between range(10), range(0, 10), and range(0, 10, 1)?"
   ]
  },
  {
   "cell_type": "raw",
   "id": "d3de46c7",
   "metadata": {},
   "source": [
    "range(10) = starts from 0 and ends at 9(excluding 10)\n",
    "range(0,10) = starts from 0 till 10 excluding 10\n",
    "range(0,10,1) = starts from to till 10 excluding 10 with an increment of 1"
   ]
  },
  {
   "cell_type": "code",
   "execution_count": 17,
   "id": "b16d7040",
   "metadata": {},
   "outputs": [
    {
     "name": "stdout",
     "output_type": "stream",
     "text": [
      "0\n",
      "1\n",
      "2\n",
      "3\n",
      "4\n",
      "5\n",
      "6\n",
      "7\n",
      "8\n",
      "9\n"
     ]
    }
   ],
   "source": [
    "for i in range(10):\n",
    "    print (i)"
   ]
  },
  {
   "cell_type": "code",
   "execution_count": 19,
   "id": "413a814b",
   "metadata": {},
   "outputs": [
    {
     "name": "stdout",
     "output_type": "stream",
     "text": [
      "0\n",
      "1\n",
      "2\n",
      "3\n",
      "4\n",
      "5\n",
      "6\n",
      "7\n",
      "8\n",
      "9\n"
     ]
    }
   ],
   "source": [
    "for i in range(0,10):\n",
    "    print (i)"
   ]
  },
  {
   "cell_type": "code",
   "execution_count": 20,
   "id": "1467bcc4",
   "metadata": {},
   "outputs": [
    {
     "name": "stdout",
     "output_type": "stream",
     "text": [
      "0\n",
      "1\n",
      "2\n",
      "3\n",
      "4\n",
      "5\n",
      "6\n",
      "7\n",
      "8\n",
      "9\n"
     ]
    }
   ],
   "source": [
    "for i in range(0,10,1):\n",
    "    print (i)"
   ]
  },
  {
   "cell_type": "markdown",
   "id": "88fb0f3c",
   "metadata": {},
   "source": [
    "12. Write a short program that prints the numbers 1 to 10 using a for loop. Then write an equivalent program that prints the numbers 1 to 10 using a while loop."
   ]
  },
  {
   "cell_type": "code",
   "execution_count": 23,
   "id": "82415652",
   "metadata": {},
   "outputs": [
    {
     "name": "stdout",
     "output_type": "stream",
     "text": [
      "1\n",
      "2\n",
      "3\n",
      "4\n",
      "5\n",
      "6\n",
      "7\n",
      "8\n",
      "9\n",
      "10\n"
     ]
    }
   ],
   "source": [
    "# for loop\n",
    "for i in range(1,11):\n",
    "    print (i)"
   ]
  },
  {
   "cell_type": "code",
   "execution_count": 24,
   "id": "1cc2eadd",
   "metadata": {},
   "outputs": [
    {
     "name": "stdout",
     "output_type": "stream",
     "text": [
      "1\n",
      "2\n",
      "3\n",
      "4\n",
      "5\n",
      "6\n",
      "7\n",
      "8\n",
      "9\n",
      "10\n"
     ]
    }
   ],
   "source": [
    "# While loop \n",
    "i=1\n",
    "while i<=10:\n",
    "    print (i)\n",
    "    i=i+1"
   ]
  },
  {
   "cell_type": "markdown",
   "id": "cf731de6",
   "metadata": {},
   "source": [
    "13. If you had a function named bacon() inside a module named spam, how would you call it after importing spam?"
   ]
  },
  {
   "cell_type": "raw",
   "id": "eb7386cf",
   "metadata": {},
   "source": [
    "The function bacon() can be called by writing spam.bacon()"
   ]
  }
 ],
 "metadata": {
  "kernelspec": {
   "display_name": "Python 3 (ipykernel)",
   "language": "python",
   "name": "python3"
  },
  "language_info": {
   "codemirror_mode": {
    "name": "ipython",
    "version": 3
   },
   "file_extension": ".py",
   "mimetype": "text/x-python",
   "name": "python",
   "nbconvert_exporter": "python",
   "pygments_lexer": "ipython3",
   "version": "3.9.12"
  }
 },
 "nbformat": 4,
 "nbformat_minor": 5
}
