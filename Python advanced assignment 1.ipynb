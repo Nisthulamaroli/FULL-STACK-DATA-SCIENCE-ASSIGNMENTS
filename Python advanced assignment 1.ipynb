{
 "cells": [
  {
   "cell_type": "markdown",
   "id": "c4880c79",
   "metadata": {},
   "source": [
    "1. What is the purpose of Python's OOP?"
   ]
  },
  {
   "cell_type": "raw",
   "id": "a5329aaf",
   "metadata": {},
   "source": [
    "OOP is object oriented programming.It consists of classes and objects.It uses real world entities like polymorphism,encapsulation,inheritance etc.\n",
    "The main purpose of oops is to bind the data and the functions that work on that together as a single unit so that no other part of the code can access this data.\n",
    "OOPS divides the main program into many small parts so that it can be executed with the help of onjects.\n",
    "OOPS helps in maintanance of the code and the modification of the existing program.\n",
    "Different instances of the objects can be made.\n"
   ]
  },
  {
   "cell_type": "markdown",
   "id": "802c07db",
   "metadata": {},
   "source": [
    "2. Where does an inheritance search look for an attribute?"
   ]
  },
  {
   "cell_type": "raw",
   "id": "8cf0917e",
   "metadata": {},
   "source": [
    "The inheritance search is simply a search of the tree from bottom to top looking for the lowest occurrence of an attribute name."
   ]
  },
  {
   "cell_type": "markdown",
   "id": "d447a774",
   "metadata": {},
   "source": [
    "3. How do you distinguish between a class object and an instance object?"
   ]
  },
  {
   "cell_type": "raw",
   "id": "6324136c",
   "metadata": {},
   "source": [
    "Class is a template for creating objects whereas object is an instance of class\n",
    "Seperate memory is allocated for each object whenever an object is created. but for a class this doesnot happens.\n",
    "A Class is created once. Many objects are created using a class.\n",
    "As Classes have no allocated memory. they can't be manipulated. but objects can be manipulated."
   ]
  },
  {
   "cell_type": "markdown",
   "id": "040bac4e",
   "metadata": {},
   "source": [
    "4. What makes the first argument in a class’s method function special?"
   ]
  },
  {
   "cell_type": "raw",
   "id": "bb059cf5",
   "metadata": {},
   "source": [
    "In object-oriented programming, whenever we define methods for a class, we use self as the first parameter in each case."
   ]
  },
  {
   "cell_type": "markdown",
   "id": "2de2d058",
   "metadata": {},
   "source": [
    "5. What is the purpose of the __init__ method?"
   ]
  },
  {
   "cell_type": "raw",
   "id": "2d83c05a",
   "metadata": {},
   "source": [
    "\"init\" is a reseved method in python classes. It is called as a constructor in object oriented terminology. This method is called when an object is created from a class and it allows the class to initialize the attributes of the class."
   ]
  },
  {
   "cell_type": "markdown",
   "id": "d17743dc",
   "metadata": {},
   "source": [
    "6. What is the process for creating a class instance?"
   ]
  },
  {
   "cell_type": "raw",
   "id": "1511fb24",
   "metadata": {},
   "source": [
    "To create a class instance, we need to call the class by its name and pass the arguments to the class, which its init method accepts.\n",
    "\n",
    "Example: even = numbers(1,2) Here even is an instance of class numbers with attributes x and y."
   ]
  },
  {
   "cell_type": "markdown",
   "id": "4eff7854",
   "metadata": {},
   "source": [
    "7. What is the process for creating a class?"
   ]
  },
  {
   "cell_type": "raw",
   "id": "71e3e792",
   "metadata": {},
   "source": [
    "class <classname>:\n",
    "    pass\n",
    "This will create a class"
   ]
  },
  {
   "cell_type": "markdown",
   "id": "1b89b5a1",
   "metadata": {},
   "source": [
    "8. How would you define the superclasses of a class?"
   ]
  },
  {
   "cell_type": "raw",
   "id": "ae719c41",
   "metadata": {},
   "source": [
    "The super class or parent class is given as as attribute while creating the child class\n",
    "\n",
    "class child(parent):\n",
    "\n",
    "Here child class is child and the parent class is parent."
   ]
  }
 ],
 "metadata": {
  "kernelspec": {
   "display_name": "Python 3 (ipykernel)",
   "language": "python",
   "name": "python3"
  },
  "language_info": {
   "codemirror_mode": {
    "name": "ipython",
    "version": 3
   },
   "file_extension": ".py",
   "mimetype": "text/x-python",
   "name": "python",
   "nbconvert_exporter": "python",
   "pygments_lexer": "ipython3",
   "version": "3.9.12"
  }
 },
 "nbformat": 4,
 "nbformat_minor": 5
}
