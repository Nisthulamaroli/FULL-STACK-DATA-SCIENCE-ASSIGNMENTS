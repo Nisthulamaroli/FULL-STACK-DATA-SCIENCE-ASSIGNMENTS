{
 "cells": [
  {
   "cell_type": "markdown",
   "id": "9bc4612e",
   "metadata": {},
   "source": [
    "1. What is the concept of an abstract superclass?"
   ]
  },
  {
   "cell_type": "raw",
   "id": "a9122318",
   "metadata": {},
   "source": [
    "An abstract class/superclass can be considered as a blueprint for other classes. It allows you to create a set of methods that must be created within any child classes built from the abstract class. A class which contains one or more abstract methods is called an abstract class.\n",
    "Whereas an abstract method is a method that has a declaration but does not have an implementation"
   ]
  },
  {
   "cell_type": "code",
   "execution_count": null,
   "id": "8400d217",
   "metadata": {},
   "outputs": [],
   "source": [
    "from abc import ABC, abstractmethod\n",
    "class Polygon(ABC): # Abstract Class\n",
    "    @abstractmethod\n",
    "    def noofsides(self): # Abstract Method\n",
    "        pass\n",
    "class Triangle(Polygon):\n",
    "    def noofsides(self):  # overriding abstract method in child class Triangle\n",
    "        print(\"I have 3 sides\")\n",
    "class Pentagon(Polygon):\n",
    "    def noofsides(self): # overriding abstract method in child class Pentagon\n",
    "        print(\"I have 5 sides\")"
   ]
  },
  {
   "cell_type": "markdown",
   "id": "27c10f1f",
   "metadata": {},
   "source": [
    "2. What happens when a class statement's top level contains a basic assignment statement?"
   ]
  },
  {
   "cell_type": "raw",
   "id": "f9176a4e",
   "metadata": {},
   "source": [
    "When a Class statement's top level contains a basic assignment statement, its usually treated as a class attribute or class level variable where as assignment statements inside methods are treated as instance attributes or local attributes.\n",
    "When an instance of a class is created a single copy of class attributes is maintained and shared to all instances of class. where as each instance object maintains its own copy of instance variables."
   ]
  },
  {
   "cell_type": "code",
   "execution_count": 1,
   "id": "fd898faf",
   "metadata": {},
   "outputs": [],
   "source": [
    "class ineuron:\n",
    "    batch_name='FSDS'  #class attribute\n",
    "    def __init__(self,duration,price):\n",
    "        self.duration=duration #Instance attributes\n",
    "        self.price=price"
   ]
  },
  {
   "cell_type": "markdown",
   "id": "d1a7e175",
   "metadata": {},
   "source": [
    "3. Why does a class need to manually call a superclass's __init__ method?"
   ]
  },
  {
   "cell_type": "raw",
   "id": "66e2b3ff",
   "metadata": {},
   "source": [
    "If a child class has __init__ method, then it will not inherit the __init__ method of the parent class. In other words the __init__ method of the child class overrides the __init__ method of the parent class. so we have to manually call a parent superclass's __init__ using super() method"
   ]
  },
  {
   "cell_type": "code",
   "execution_count": 3,
   "id": "5bde3e51",
   "metadata": {},
   "outputs": [
    {
     "name": "stdout",
     "output_type": "stream",
     "text": [
      "{'duration': '12 months', 'price': 17700, 'mentor': 'Sudhanshu & Krish'}\n"
     ]
    }
   ],
   "source": [
    "class ineuron:\n",
    "    def __init__(self,duration,price):\n",
    "        self.duration=duration \n",
    "        self.price=price\n",
    "class FSDS(ineuron):\n",
    "    def __init__(self,duration,price,mentor):\n",
    "        super().__init__(duration,price)\n",
    "        self.mentor=mentor\n",
    "    \n",
    "batch=FSDS('12 months',17700,'Sudhanshu & Krish')\n",
    "print(batch.__dict__)"
   ]
  },
  {
   "cell_type": "markdown",
   "id": "f25b7278",
   "metadata": {},
   "source": [
    "4. How can you augment, instead of completely replacing, an inherited method?"
   ]
  },
  {
   "cell_type": "code",
   "execution_count": null,
   "id": "d7e74938",
   "metadata": {},
   "outputs": [],
   "source": [
    "super() method can be used to augment, instead of completely replacing, an inherited method."
   ]
  },
  {
   "cell_type": "code",
   "execution_count": 4,
   "id": "d8b6125b",
   "metadata": {},
   "outputs": [
    {
     "name": "stdout",
     "output_type": "stream",
     "text": [
      "{'duration': '12 months', 'price': 17700, 'mentor': 'Sudhanshu & Krish'}\n"
     ]
    }
   ],
   "source": [
    "class ineuron:\n",
    "    def __init__(self,duration,price):\n",
    "        self.duration=duration \n",
    "        self.price=price\n",
    "class FSDS(ineuron):\n",
    "    def __init__(self,duration,price,mentor):\n",
    "        super().__init__(duration,price)\n",
    "        self.mentor=mentor\n",
    "    \n",
    "batch=FSDS('12 months',17700,'Sudhanshu & Krish')\n",
    "print(batch.__dict__)"
   ]
  },
  {
   "cell_type": "markdown",
   "id": "14631473",
   "metadata": {},
   "source": [
    "5. How is the local scope of a class different from that of a function?"
   ]
  },
  {
   "cell_type": "code",
   "execution_count": 10,
   "id": "eb1a9713",
   "metadata": {},
   "outputs": [
    {
     "name": "stdout",
     "output_type": "stream",
     "text": [
      "you're name is Krish\n",
      "Name varible is not available outside hello function scope\n",
      "FSDS\n",
      "FSDS\n"
     ]
    }
   ],
   "source": [
    "def hello(name):\n",
    "    name = name\n",
    "    print(f'you\\'re name is {name}')\n",
    "hello('Krish')\n",
    "try:\n",
    "    name\n",
    "except NameError:\n",
    "    print('Name varible is not available outside hello function scope')\n",
    "\n",
    "\n",
    "\n",
    "class ineuron:\n",
    "    batch_name='FSDS'  #class attribute\n",
    "    def __init__(self):\n",
    "        pass\n",
    "print(ineuron.batch_name) # Using class name\n",
    "Hi=ineuron()\n",
    "print(Hi.batch_name) # Using instance of class"
   ]
  },
  {
   "cell_type": "code",
   "execution_count": null,
   "id": "7914d495",
   "metadata": {},
   "outputs": [],
   "source": []
  }
 ],
 "metadata": {
  "kernelspec": {
   "display_name": "Python 3 (ipykernel)",
   "language": "python",
   "name": "python3"
  },
  "language_info": {
   "codemirror_mode": {
    "name": "ipython",
    "version": 3
   },
   "file_extension": ".py",
   "mimetype": "text/x-python",
   "name": "python",
   "nbconvert_exporter": "python",
   "pygments_lexer": "ipython3",
   "version": "3.9.12"
  }
 },
 "nbformat": 4,
 "nbformat_minor": 5
}
