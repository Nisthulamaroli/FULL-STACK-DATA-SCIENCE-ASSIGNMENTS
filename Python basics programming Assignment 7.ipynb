{
 "cells": [
  {
   "cell_type": "code",
   "execution_count": null,
   "id": "2b151b49",
   "metadata": {},
   "outputs": [],
   "source": [
    "1. Write a Python Program to find sum of array?"
   ]
  },
  {
   "cell_type": "code",
   "execution_count": 1,
   "id": "0b1e18ab",
   "metadata": {},
   "outputs": [
    {
     "name": "stdout",
     "output_type": "stream",
     "text": [
      "Enter elements of a arr separated by space: 5 6 8 9\n",
      "arr:  ['5', '6', '8', '9']\n",
      "Sum of the array is  28\n"
     ]
    }
   ],
   "source": [
    "def array_sum(arr):\n",
    "    for i in range(len(arr)):\n",
    "        arr[i] = int(arr[i])\n",
    "    return sum(arr)\n",
    "arr_raw = input('Enter elements of a arr separated by space: ')\n",
    "arr = arr_raw.split()\n",
    "print('arr: ', arr)\n",
    "ans = array_sum(arr)\n",
    "print ('Sum of the array is ', ans)"
   ]
  },
  {
   "cell_type": "markdown",
   "id": "471d4dbf",
   "metadata": {},
   "source": [
    "2. Write a Python Program to find largest element in an array?"
   ]
  },
  {
   "cell_type": "code",
   "execution_count": 2,
   "id": "a7886069",
   "metadata": {},
   "outputs": [
    {
     "name": "stdout",
     "output_type": "stream",
     "text": [
      "Largest in given array is 9875\n"
     ]
    }
   ],
   "source": [
    "def largest(arr,n):\n",
    "    max = arr[0]\n",
    "    for i in range(1, n):\n",
    "        if arr[i] > max:\n",
    "            max = arr[i]\n",
    "    return max\n",
    "arr = [5,22,689,2589,9875]\n",
    "n = len(arr)\n",
    "Ans = largest(arr,n)\n",
    "print (\"Largest in given array is\",Ans)"
   ]
  },
  {
   "cell_type": "markdown",
   "id": "e394f2ba",
   "metadata": {},
   "source": [
    "3. Write a Python Program for array rotation?"
   ]
  },
  {
   "cell_type": "code",
   "execution_count": 4,
   "id": "1f393bfb",
   "metadata": {},
   "outputs": [
    {
     "name": "stdout",
     "output_type": "stream",
     "text": [
      "Enter elements of a arr separated by space: 2 6 5 89 699 654789\n",
      "The array is :  ['2', '6', '5', '89', '699', '654789']\n",
      "Enter no of elements : 3\n",
      "Rotated list is\n",
      "['89', '699', '654789', '2', '6', '5']\n"
     ]
    }
   ],
   "source": [
    "def rotateList(arr,d,n):\n",
    "    arr[:]=arr[d:n]+arr[0:d]\n",
    "    return arr\n",
    "\n",
    "arr_raw = input('Enter elements of a arr separated by space: ')\n",
    "arr = arr_raw.split()\n",
    "print(\"The array is : \", arr)\n",
    "elements = int(input(\"Enter no of elements : \"))\n",
    "print(\"Rotated list is\")\n",
    "print(rotateList(arr,elements,len(arr)))"
   ]
  },
  {
   "cell_type": "code",
   "execution_count": null,
   "id": "3de1dd54",
   "metadata": {},
   "outputs": [],
   "source": [
    "4. Write a Python Program to Split the array and add the first part to the end?"
   ]
  },
  {
   "cell_type": "code",
   "execution_count": 5,
   "id": "07c48cbf",
   "metadata": {},
   "outputs": [
    {
     "name": "stdout",
     "output_type": "stream",
     "text": [
      "Enter elements of a arr separated by space: 3 5 6 8 99 21 333  555 66666 \n",
      "Enter position : 3\n",
      "After Spliting and adding the first part to the end, the array is: \n",
      "8 99 21 333 555 66666 3 5 6 "
     ]
    }
   ],
   "source": [
    "def split_array(a, n, k): \n",
    "   b = a[:k]\n",
    "   return (a[k::]+b[::])\n",
    "arr_raw = input('Enter elements of a arr separated by space: ')\n",
    "arr = arr_raw.split()\n",
    "n = len(arr)\n",
    "position = int(input(\"Enter position : \"))\n",
    "arr = split_array(arr, n, position)\n",
    "print(\"After Spliting and adding the first part to the end, the array is: \")\n",
    "for i in range(0, n): \n",
    "    print(arr[i], end = ' ')"
   ]
  },
  {
   "cell_type": "markdown",
   "id": "596aadd7",
   "metadata": {},
   "source": [
    "5. Write a Python Program to check if given array is Monotonic?"
   ]
  },
  {
   "cell_type": "code",
   "execution_count": 6,
   "id": "b8f69cef",
   "metadata": {},
   "outputs": [
    {
     "name": "stdout",
     "output_type": "stream",
     "text": [
      "True\n"
     ]
    }
   ],
   "source": [
    "def Monotonic(A): \n",
    "    return (all(A[i] <= A[i + 1] for i in range(len(A) - 1)) or\n",
    "            all(A[i] >= A[i + 1] for i in range(len(A) - 1)))\n",
    "A = [2,3,5,6,6,7]\n",
    "print(Monotonic(A))"
   ]
  },
  {
   "cell_type": "code",
   "execution_count": null,
   "id": "800ce7e0",
   "metadata": {},
   "outputs": [],
   "source": []
  }
 ],
 "metadata": {
  "kernelspec": {
   "display_name": "Python 3 (ipykernel)",
   "language": "python",
   "name": "python3"
  },
  "language_info": {
   "codemirror_mode": {
    "name": "ipython",
    "version": 3
   },
   "file_extension": ".py",
   "mimetype": "text/x-python",
   "name": "python",
   "nbconvert_exporter": "python",
   "pygments_lexer": "ipython3",
   "version": "3.9.12"
  }
 },
 "nbformat": 4,
 "nbformat_minor": 5
}
