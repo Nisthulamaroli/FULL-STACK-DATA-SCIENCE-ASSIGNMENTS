{
 "cells": [
  {
   "cell_type": "raw",
   "id": "3078dd7f",
   "metadata": {},
   "source": [
    "1. What is the distinction between a numpy array and a pandas data frame? Is there a way to convert between the two if there is ?"
   ]
  },
  {
   "cell_type": "markdown",
   "id": "4f6e9b6b",
   "metadata": {},
   "source": [
    "Numpy Ndarray provides a lot of convenient and optimized methods for performing several mathematical operations on vectors.\n",
    "Pandas Dataframe is an in-memory 2-dimensional tabular representation of data. In simpler words, it can be seen as a spreadsheet having rows and columns.\n",
    "Conversion : Dataframe=pandas.DataFrame(array)"
   ]
  },
  {
   "cell_type": "raw",
   "id": "39cb6233",
   "metadata": {},
   "source": [
    "2. Identify some of the plotting techniques that are used to produce a stock-market chart ?"
   ]
  },
  {
   "cell_type": "markdown",
   "id": "59a6619f",
   "metadata": {},
   "source": [
    "Bar chart, Line Chart are used for plotting."
   ]
  },
  {
   "cell_type": "raw",
   "id": "8d8ac34c",
   "metadata": {},
   "source": [
    "3. Why is it essential to print a legend on a stock market chart ?"
   ]
  },
  {
   "cell_type": "markdown",
   "id": "dd496bae",
   "metadata": {},
   "source": [
    "Legend will help comparison between different stocks, so will be essential on a stock market chart"
   ]
  },
  {
   "cell_type": "raw",
   "id": "6e64cd10",
   "metadata": {},
   "source": [
    "4. What is the best way to limit the length of a pandas data frame to less than a year ?"
   ]
  },
  {
   "cell_type": "markdown",
   "id": "1f76d3cb",
   "metadata": {},
   "source": [
    "We can use start and end parameters for that. In start we write the date from where we are starting and at the end we write the end date. SO within this span we can restric the duration.Also we can use the parameters like periods for how much times we need the duration and we can also use the frequency parameter."
   ]
  },
  {
   "cell_type": "raw",
   "id": "aece7c6d",
   "metadata": {},
   "source": [
    "5. What is the definition of a 180-day moving average ?"
   ]
  },
  {
   "cell_type": "markdown",
   "id": "8530d512",
   "metadata": {},
   "source": [
    "The 180-day moving average is represented as a line on charts and represents the average price over the past 180 days. The moving average can give traders a sense regarding whether the trend is up or down, while also identifying potential support or resistance areas."
   ]
  }
 ],
 "metadata": {
  "kernelspec": {
   "display_name": "Python 3 (ipykernel)",
   "language": "python",
   "name": "python3"
  },
  "language_info": {
   "codemirror_mode": {
    "name": "ipython",
    "version": 3
   },
   "file_extension": ".py",
   "mimetype": "text/x-python",
   "name": "python",
   "nbconvert_exporter": "python",
   "pygments_lexer": "ipython3",
   "version": "3.11.5"
  }
 },
 "nbformat": 4,
 "nbformat_minor": 5
}
