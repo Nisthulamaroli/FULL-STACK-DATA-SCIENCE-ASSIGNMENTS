{
 "cells": [
  {
   "cell_type": "markdown",
   "id": "f0d44a5e",
   "metadata": {},
   "source": [
    "1. Create a function that takes a list of non-negative integers and strings and return a new list\n",
    "without the strings.\n",
    "Examples\n",
    "filter_list([1, 2, \"a\", \"b\"]) ➞ [1, 2]\n",
    "filter_list([1, \"a\", \"b\", 0, 15]) ➞ [1, 0, 15]\n",
    "filter_list([1, 2, \"aasf\", \"1\", \"123\", 123]) ➞ [1, 2, 123]"
   ]
  },
  {
   "cell_type": "code",
   "execution_count": null,
   "id": "63925bae",
   "metadata": {},
   "outputs": [],
   "source": [
    "def filter_list(list):\n",
    "    output=[]\n",
    "    for i in list:\n",
    "        if type(i)==int and i>=0:\n",
    "            output.append(i)\n",
    "    print(\"The list without strings:\", output)\n",
    "\n",
    "filter_list([1, 2, \"a\", \"b\"])\n",
    "filter_list([1, \"a\", \"b\", 0, 15])\n",
    "filter_list([1, 2, \"aasf\", \"1\", \"123\", 123])"
   ]
  },
  {
   "cell_type": "markdown",
   "id": "ade33e6e",
   "metadata": {},
   "source": [
    "2. The \"Reverser\" takes a string as input and returns that string in reverse order, with the opposite case ?\n",
    "Examples\n",
    "reverse(\"Hello World\") ➞ \"DLROw OLLEh\"\n",
    "reverse(\"ReVeRsE\") ➞ \"eSrEvEr\"\n",
    "reverse(\"Radar\") ➞ \"RADAr\""
   ]
  },
  {
   "cell_type": "code",
   "execution_count": null,
   "id": "6000e1db",
   "metadata": {},
   "outputs": [],
   "source": [
    "def reverse(a):\n",
    "    print(a[::-1].swapcase())\n",
    "    \n",
    "reverse(\"Hello World\")\n",
    "reverse(\"ReVeRsE\") \n",
    "reverse(\"Radar\")"
   ]
  },
  {
   "cell_type": "markdown",
   "id": "d6d00d93",
   "metadata": {},
   "source": [
    "3. You can assign variables from lists like this:\n",
    "lst = [1, 2, 3, 4, 5, 6] first = lst[0] middle = lst[1:-1] last = lst[-1] print(first) ➞ outputs 1 print(middle) ➞ outputs [2, 3, 4, 5] print(last) ➞ outputs 6\n",
    "With Python 3, you can assign variables from lists in a much more succinct way. Create variables first, middle and last from the given list using destructuring assignment\n",
    "(check the Resources tab for some examples), where:\n",
    "first ➞ 1 middle ➞ [2, 3, 4, 5] last ➞ 6\n",
    "Your task is to unpack the list writeyourcodehere into three variables, being first, middle, and last, with middle being everything in between the first and last element. Then print all three variables."
   ]
  },
  {
   "cell_type": "code",
   "execution_count": null,
   "id": "8679577f",
   "metadata": {},
   "outputs": [],
   "source": [
    "first,*middle,last=[1,2,3,4,5,6]\n",
    "print(\"First:\",first)\n",
    "print(\"Middle:\",middle)\n",
    "print(\"Last:\",last)"
   ]
  },
  {
   "cell_type": "markdown",
   "id": "2d03b35f",
   "metadata": {},
   "source": [
    "4. Write a function that calculates the factorial of a number recursively.\n",
    "Examples\n",
    "factorial(5) ➞ 120\n",
    "factorial(3) ➞ 6\n",
    "factorial(1) ➞ 1\n",
    "factorial(0) ➞ 1"
   ]
  },
  {
   "cell_type": "code",
   "execution_count": 5,
   "id": "0ecfdf58",
   "metadata": {},
   "outputs": [
    {
     "data": {
      "text/plain": [
       "120"
      ]
     },
     "execution_count": 5,
     "metadata": {},
     "output_type": "execute_result"
    }
   ],
   "source": [
    "def factorial(x):\n",
    "    if x==0:\n",
    "        return 1\n",
    "    else:\n",
    "        return x*factorial(x-1)\n",
    "\n",
    "factorial(5)\n",
    "\n",
    "    "
   ]
  },
  {
   "cell_type": "markdown",
   "id": "79025231",
   "metadata": {},
   "source": [
    "5. Write a function that moves all elements of one type to the end of the list.\n",
    "Examples:\n",
    "move_to_end([1, 3, 2, 4, 4, 1], 1) ➞ [3, 2, 4, 4, 1, 1]\n",
    "\n",
    "Move all the 1s to the end of the array.\n",
    "move_to_end([7, 8, 9, 1, 2, 3, 4], 9) ➞ [7, 8, 1, 2, 3, 4, 9]\n",
    "move_to_end([\"a\", \"a\", \"a\", \"b\"], \"a\") ➞ [\"b\", \"a\", \"a\", \"a\"]"
   ]
  },
  {
   "cell_type": "code",
   "execution_count": 10,
   "id": "736ed9ba",
   "metadata": {},
   "outputs": [
    {
     "data": {
      "text/plain": [
       "[3, 2, 4, 4, 1, 1]"
      ]
     },
     "execution_count": 10,
     "metadata": {},
     "output_type": "execute_result"
    }
   ],
   "source": [
    "def move_to_end(a,b):\n",
    "    l1=[]\n",
    "    l2=[]\n",
    "    for i in a:\n",
    "        if i==b:\n",
    "            l2.append(i)\n",
    "        else:\n",
    "            l1.append(i)\n",
    "    l1.extend(l2)\n",
    "    return l1\n",
    "    \n",
    "    \n",
    "move_to_end([1, 3, 2, 4, 4, 1], 1)"
   ]
  },
  {
   "cell_type": "code",
   "execution_count": null,
   "id": "935bea58",
   "metadata": {},
   "outputs": [],
   "source": []
  }
 ],
 "metadata": {
  "kernelspec": {
   "display_name": "Python 3 (ipykernel)",
   "language": "python",
   "name": "python3"
  },
  "language_info": {
   "codemirror_mode": {
    "name": "ipython",
    "version": 3
   },
   "file_extension": ".py",
   "mimetype": "text/x-python",
   "name": "python",
   "nbconvert_exporter": "python",
   "pygments_lexer": "ipython3",
   "version": "3.9.12"
  }
 },
 "nbformat": 4,
 "nbformat_minor": 5
}
