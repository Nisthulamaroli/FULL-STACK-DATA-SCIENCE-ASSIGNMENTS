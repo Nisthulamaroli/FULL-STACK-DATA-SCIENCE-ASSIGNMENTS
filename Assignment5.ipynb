{
 "cells": [
  {
   "cell_type": "markdown",
   "id": "647c5677",
   "metadata": {},
   "source": [
    "1. What does an empty dictionary's code look like?"
   ]
  },
  {
   "cell_type": "raw",
   "id": "44766e5d",
   "metadata": {},
   "source": [
    "a={} or a=dict()"
   ]
  },
  {
   "cell_type": "code",
   "execution_count": 2,
   "id": "fda57668",
   "metadata": {},
   "outputs": [
    {
     "data": {
      "text/plain": [
       "dict"
      ]
     },
     "execution_count": 2,
     "metadata": {},
     "output_type": "execute_result"
    }
   ],
   "source": [
    "a={}\n",
    "type(a)\n",
    "b=dict()\n",
    "type(b)"
   ]
  },
  {
   "cell_type": "markdown",
   "id": "849b6884",
   "metadata": {},
   "source": [
    "2. What is the value of a dictionary value with the key 'foo' and the value 42?"
   ]
  },
  {
   "cell_type": "raw",
   "id": "1701f232",
   "metadata": {},
   "source": [
    "{'foo':42}"
   ]
  },
  {
   "cell_type": "markdown",
   "id": "d89f290e",
   "metadata": {},
   "source": [
    "3. What is the most significant distinction between a dictionary and a list?"
   ]
  },
  {
   "cell_type": "raw",
   "id": "59914435",
   "metadata": {},
   "source": [
    "1. Dictionary is denoted using{}.List is denoted using []\n",
    "2. Contents of dictionary are stored as key and value pair and order isnot maintained.The order is maintained for the comtents of the list.\n",
    "3. The elements are accessed through key value in dictionary where as we use index to access the elements in a list."
   ]
  },
  {
   "cell_type": "markdown",
   "id": "97efec13",
   "metadata": {},
   "source": [
    "4. What happens if you try to access spam['foo'] if spam is {'bar': 100}?"
   ]
  },
  {
   "cell_type": "raw",
   "id": "5017ab1b",
   "metadata": {},
   "source": [
    "You will get a key error as 'foo' is not in the dictionary."
   ]
  },
  {
   "cell_type": "code",
   "execution_count": 3,
   "id": "2648015e",
   "metadata": {},
   "outputs": [],
   "source": [
    "spam={'bar':100}"
   ]
  },
  {
   "cell_type": "code",
   "execution_count": 4,
   "id": "02448a7b",
   "metadata": {},
   "outputs": [
    {
     "ename": "KeyError",
     "evalue": "'foo'",
     "output_type": "error",
     "traceback": [
      "\u001b[1;31m---------------------------------------------------------------------------\u001b[0m",
      "\u001b[1;31mKeyError\u001b[0m                                  Traceback (most recent call last)",
      "Input \u001b[1;32mIn [4]\u001b[0m, in \u001b[0;36m<cell line: 1>\u001b[1;34m()\u001b[0m\n\u001b[1;32m----> 1\u001b[0m \u001b[43mspam\u001b[49m\u001b[43m[\u001b[49m\u001b[38;5;124;43m'\u001b[39;49m\u001b[38;5;124;43mfoo\u001b[39;49m\u001b[38;5;124;43m'\u001b[39;49m\u001b[43m]\u001b[49m\n",
      "\u001b[1;31mKeyError\u001b[0m: 'foo'"
     ]
    }
   ],
   "source": [
    "spam['foo']"
   ]
  },
  {
   "cell_type": "markdown",
   "id": "ed86d27b",
   "metadata": {},
   "source": [
    "5. If a dictionary is stored in spam, what is the difference between the expressions 'cat' in spam and 'cat' in spam.keys()?"
   ]
  },
  {
   "cell_type": "raw",
   "id": "1200a69c",
   "metadata": {},
   "source": [
    "'cat' in spam will check whether a value called 'cat' is present in the keys of the dictionary spam.\n",
    "'cat' in spam.keys() also check for the avaliability of 'cat' in the keys of the dictionary spam"
   ]
  },
  {
   "cell_type": "markdown",
   "id": "8efd6314",
   "metadata": {},
   "source": [
    "6. If a dictionary is stored in spam, what is the difference between the expressions 'cat' in spam and 'cat' in spam.values()?"
   ]
  },
  {
   "cell_type": "raw",
   "id": "5e854933",
   "metadata": {},
   "source": [
    "'cat' in spam will check whether a value called 'cat' is present in the keys of the dictionary spam.\n",
    "'cat' in spam.values() also check for the avaliability of 'cat' in the values of the dictionary spam"
   ]
  },
  {
   "cell_type": "markdown",
   "id": "da708111",
   "metadata": {},
   "source": [
    "7. What is a shortcut for the following code?\n",
    "if 'color' not in spam:\n",
    "spam['color'] = 'black'\n"
   ]
  },
  {
   "cell_type": "raw",
   "id": "6352beac",
   "metadata": {},
   "source": [
    "spam.setdefault('colour','black')"
   ]
  },
  {
   "cell_type": "code",
   "execution_count": 5,
   "id": "4df791e5",
   "metadata": {},
   "outputs": [
    {
     "data": {
      "text/plain": [
       "'black'"
      ]
     },
     "execution_count": 5,
     "metadata": {},
     "output_type": "execute_result"
    }
   ],
   "source": [
    "spam.setdefault('colour','black')"
   ]
  },
  {
   "cell_type": "code",
   "execution_count": 6,
   "id": "6d3888ce",
   "metadata": {},
   "outputs": [
    {
     "data": {
      "text/plain": [
       "{'bar': 100, 'colour': 'black'}"
      ]
     },
     "execution_count": 6,
     "metadata": {},
     "output_type": "execute_result"
    }
   ],
   "source": [
    "spam"
   ]
  },
  {
   "cell_type": "markdown",
   "id": "8d5d993d",
   "metadata": {},
   "source": [
    "8. How do you \"pretty print\" dictionary values using which module and function?"
   ]
  },
  {
   "cell_type": "raw",
   "id": "b22f9298",
   "metadata": {},
   "source": [
    "We can use pprint() function from pprint library. "
   ]
  },
  {
   "cell_type": "code",
   "execution_count": 19,
   "id": "e308ab5d",
   "metadata": {},
   "outputs": [],
   "source": [
    "dict=[{'Name':'A','Age':20,'Class':{'ineuron':'Python basics','Time':'10AM'}},\n",
    "      {'Name':'B','Age':21,'Class':{'ineuron':'Python Advanced','Time':'11AM'}},\n",
    "      {'Name':'C','Age':22,'Class':{'ineuron':'Python functions','Time':'12PM'}},\n",
    "      {'Name':'D','Age':22,'Class':{'ineuron':'Python functions','Time':'12PM'}} \n",
    "     ]"
   ]
  },
  {
   "cell_type": "code",
   "execution_count": 20,
   "id": "4e74d0d9",
   "metadata": {},
   "outputs": [
    {
     "data": {
      "text/plain": [
       "[{'Name': 'A',\n",
       "  'Age': 20,\n",
       "  'Class': {'ineuron': 'Python basics', 'Time': '10AM'}},\n",
       " {'Name': 'B',\n",
       "  'Age': 21,\n",
       "  'Class': {'ineuron': 'Python Advanced', 'Time': '11AM'}},\n",
       " {'Name': 'C',\n",
       "  'Age': 22,\n",
       "  'Class': {'ineuron': 'Python functions', 'Time': '12PM'}},\n",
       " {'Name': 'D',\n",
       "  'Age': 22,\n",
       "  'Class': {'ineuron': 'Python functions', 'Time': '12PM'}}]"
      ]
     },
     "execution_count": 20,
     "metadata": {},
     "output_type": "execute_result"
    }
   ],
   "source": [
    "dict"
   ]
  },
  {
   "cell_type": "code",
   "execution_count": 21,
   "id": "32e77bfc",
   "metadata": {},
   "outputs": [
    {
     "name": "stdout",
     "output_type": "stream",
     "text": [
      "[{'Age': 20,\n",
      "  'Class': {'Time': '10AM', 'ineuron': 'Python basics'},\n",
      "  'Name': 'A'},\n",
      " {'Age': 21,\n",
      "  'Class': {'Time': '11AM', 'ineuron': 'Python Advanced'},\n",
      "  'Name': 'B'},\n",
      " {'Age': 22,\n",
      "  'Class': {'Time': '12PM', 'ineuron': 'Python functions'},\n",
      "  'Name': 'C'},\n",
      " {'Age': 22,\n",
      "  'Class': {'Time': '12PM', 'ineuron': 'Python functions'},\n",
      "  'Name': 'D'}]\n"
     ]
    }
   ],
   "source": [
    "import pprint\n",
    "pprint.pprint(dict)"
   ]
  }
 ],
 "metadata": {
  "kernelspec": {
   "display_name": "Python 3 (ipykernel)",
   "language": "python",
   "name": "python3"
  },
  "language_info": {
   "codemirror_mode": {
    "name": "ipython",
    "version": 3
   },
   "file_extension": ".py",
   "mimetype": "text/x-python",
   "name": "python",
   "nbconvert_exporter": "python",
   "pygments_lexer": "ipython3",
   "version": "3.9.12"
  }
 },
 "nbformat": 4,
 "nbformat_minor": 5
}
