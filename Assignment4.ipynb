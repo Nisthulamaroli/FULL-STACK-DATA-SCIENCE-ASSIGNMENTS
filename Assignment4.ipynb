{
 "cells": [
  {
   "cell_type": "markdown",
   "id": "04293fb3",
   "metadata": {},
   "source": [
    "1. What exactly is []?"
   ]
  },
  {
   "cell_type": "raw",
   "id": "8616e7fa",
   "metadata": {},
   "source": [
    "[] is used to denote an empty list."
   ]
  },
  {
   "cell_type": "markdown",
   "id": "6b89417b",
   "metadata": {},
   "source": [
    "2. In a list of values stored in a variable called spam, how would you assign the value 'hello' as the third value? (Assume [2, 4, 6, 8, 10] are in spam.)"
   ]
  },
  {
   "cell_type": "code",
   "execution_count": 16,
   "id": "0d940da7",
   "metadata": {},
   "outputs": [
    {
     "data": {
      "text/plain": [
       "[2, 4, 'hello', 8, 10]"
      ]
     },
     "execution_count": 16,
     "metadata": {},
     "output_type": "execute_result"
    },
    {
     "data": {
      "text/plain": [
       "[2, 4, 'hello', 8, 10]"
      ]
     },
     "execution_count": 16,
     "metadata": {},
     "output_type": "execute_result"
    }
   ],
   "source": [
    "spam = [2,4,6,8,10]\n",
    "spam[2]=\"hello\"\n",
    "spam"
   ]
  },
  {
   "cell_type": "markdown",
   "id": "89b5e9f2",
   "metadata": {},
   "source": [
    "# Let's pretend the spam includes the list ['a', 'b', 'c', 'd'] for the next three queries."
   ]
  },
  {
   "cell_type": "markdown",
   "id": "7b347962",
   "metadata": {},
   "source": [
    "3. What is the value of spam[int(int('3' * 2) / 11)]?"
   ]
  },
  {
   "cell_type": "raw",
   "id": "67fec912",
   "metadata": {},
   "source": [
    "'3'*2= '33'.int('33')=33\n",
    "33/11=3\n",
    "int(3)=3\n",
    "So spam[int(int('3' * 2) / 11)]= spam[3]=>'d'"
   ]
  },
  {
   "cell_type": "code",
   "execution_count": 17,
   "id": "13340e40",
   "metadata": {},
   "outputs": [
    {
     "data": {
      "text/plain": [
       "'d'"
      ]
     },
     "execution_count": 17,
     "metadata": {},
     "output_type": "execute_result"
    },
    {
     "data": {
      "text/plain": [
       "'d'"
      ]
     },
     "execution_count": 17,
     "metadata": {},
     "output_type": "execute_result"
    }
   ],
   "source": [
    "spam=['a','b','c','d']\n",
    "spam[int(int('3' * 2) / 11)]"
   ]
  },
  {
   "cell_type": "markdown",
   "id": "0fdb8bed",
   "metadata": {},
   "source": [
    "4. What is the value of spam[-1]?"
   ]
  },
  {
   "cell_type": "raw",
   "id": "00587aac",
   "metadata": {},
   "source": [
    "spam[-1]='d'(If we are calculating thr index from left hand side, it will start from 0 and so on.If we are calculating the index from right hand side it will start from -1)"
   ]
  },
  {
   "cell_type": "code",
   "execution_count": 18,
   "id": "a74b0a98",
   "metadata": {},
   "outputs": [
    {
     "data": {
      "text/plain": [
       "'d'"
      ]
     },
     "execution_count": 18,
     "metadata": {},
     "output_type": "execute_result"
    },
    {
     "data": {
      "text/plain": [
       "'d'"
      ]
     },
     "execution_count": 18,
     "metadata": {},
     "output_type": "execute_result"
    }
   ],
   "source": [
    "spam[-1]"
   ]
  },
  {
   "cell_type": "markdown",
   "id": "b712f6de",
   "metadata": {},
   "source": [
    "5. What is the value of spam[:2]?"
   ]
  },
  {
   "cell_type": "raw",
   "id": "26ce53cb",
   "metadata": {},
   "source": [
    "['a','b'](It starts from zeroth index till 2nd index excluding 2nd index)"
   ]
  },
  {
   "cell_type": "code",
   "execution_count": 19,
   "id": "b809fcb6",
   "metadata": {},
   "outputs": [
    {
     "data": {
      "text/plain": [
       "['a', 'b']"
      ]
     },
     "execution_count": 19,
     "metadata": {},
     "output_type": "execute_result"
    },
    {
     "data": {
      "text/plain": [
       "['a', 'b']"
      ]
     },
     "execution_count": 19,
     "metadata": {},
     "output_type": "execute_result"
    }
   ],
   "source": [
    "spam[:2]"
   ]
  },
  {
   "cell_type": "markdown",
   "id": "7ec7e3cf",
   "metadata": {},
   "source": [
    "# Let's pretend bacon has the list [3.14, 'cat,' 11, 'cat,' True] for the next three questions. "
   ]
  },
  {
   "cell_type": "markdown",
   "id": "92c3204e",
   "metadata": {},
   "source": [
    "6. What is the value of bacon.index('cat')?"
   ]
  },
  {
   "cell_type": "raw",
   "id": "9f9ed8a9",
   "metadata": {},
   "source": [
    "This wll give the index of 'cat' ie 1"
   ]
  },
  {
   "cell_type": "code",
   "execution_count": 20,
   "id": "c821a440",
   "metadata": {},
   "outputs": [],
   "source": [
    "bacon=[3.14, 'cat',11, 'cat',True] "
   ]
  },
  {
   "cell_type": "code",
   "execution_count": 21,
   "id": "027d9b7f",
   "metadata": {},
   "outputs": [
    {
     "data": {
      "text/plain": [
       "1"
      ]
     },
     "execution_count": 21,
     "metadata": {},
     "output_type": "execute_result"
    },
    {
     "data": {
      "text/plain": [
       "1"
      ]
     },
     "execution_count": 21,
     "metadata": {},
     "output_type": "execute_result"
    }
   ],
   "source": [
    "bacon.index('cat')"
   ]
  },
  {
   "cell_type": "markdown",
   "id": "a64acd29",
   "metadata": {},
   "source": [
    "7. How does bacon.append(99) change the look of the list value in bacon?"
   ]
  },
  {
   "cell_type": "raw",
   "id": "7ab7252d",
   "metadata": {},
   "source": [
    "The result will be bacon = [3.14, 'cat',11, 'cat',True,99] "
   ]
  },
  {
   "cell_type": "code",
   "execution_count": 22,
   "id": "4d7c4d1a",
   "metadata": {},
   "outputs": [],
   "source": [
    "bacon.append(99)"
   ]
  },
  {
   "cell_type": "code",
   "execution_count": 23,
   "id": "20c248ae",
   "metadata": {},
   "outputs": [
    {
     "data": {
      "text/plain": [
       "[3.14, 'cat', 11, 'cat', True, 99]"
      ]
     },
     "execution_count": 23,
     "metadata": {},
     "output_type": "execute_result"
    },
    {
     "data": {
      "text/plain": [
       "[3.14, 'cat', 11, 'cat', True, 99]"
      ]
     },
     "execution_count": 23,
     "metadata": {},
     "output_type": "execute_result"
    }
   ],
   "source": [
    "bacon"
   ]
  },
  {
   "cell_type": "markdown",
   "id": "ebc2d50f",
   "metadata": {},
   "source": [
    "8. How does bacon.remove('cat') change the look of the list in bacon?"
   ]
  },
  {
   "cell_type": "raw",
   "id": "52406da1",
   "metadata": {},
   "source": [
    "The result wil be bacon = [3.14,,11, 'cat',True,99] "
   ]
  },
  {
   "cell_type": "code",
   "execution_count": 24,
   "id": "e4f47ba4",
   "metadata": {},
   "outputs": [],
   "source": [
    "bacon.remove('cat')"
   ]
  },
  {
   "cell_type": "code",
   "execution_count": 25,
   "id": "7e3b166b",
   "metadata": {},
   "outputs": [
    {
     "data": {
      "text/plain": [
       "[3.14, 11, 'cat', True, 99]"
      ]
     },
     "execution_count": 25,
     "metadata": {},
     "output_type": "execute_result"
    },
    {
     "data": {
      "text/plain": [
       "[3.14, 11, 'cat', True, 99]"
      ]
     },
     "execution_count": 25,
     "metadata": {},
     "output_type": "execute_result"
    }
   ],
   "source": [
    "bacon"
   ]
  },
  {
   "cell_type": "markdown",
   "id": "83f1d973",
   "metadata": {},
   "source": [
    "9. What are the list concatenation and list replication operators?"
   ]
  },
  {
   "cell_type": "raw",
   "id": "11c7368d",
   "metadata": {},
   "source": [
    "List concatination operator = +\n",
    "List replication operator = *"
   ]
  },
  {
   "cell_type": "code",
   "execution_count": 26,
   "id": "5a7e4b7c",
   "metadata": {},
   "outputs": [
    {
     "data": {
      "text/plain": [
       "[1, 2, 3, 4, 5, 'a', 'b', 'c', 'd']"
      ]
     },
     "execution_count": 26,
     "metadata": {},
     "output_type": "execute_result"
    },
    {
     "data": {
      "text/plain": [
       "[1, 2, 3, 4, 5, 'a', 'b', 'c', 'd']"
      ]
     },
     "execution_count": 26,
     "metadata": {},
     "output_type": "execute_result"
    }
   ],
   "source": [
    "# List concatination\n",
    "l1=[1,2,3,4,5]\n",
    "l2=['a','b','c','d']\n",
    "l3=l1+l2\n",
    "l3"
   ]
  },
  {
   "cell_type": "code",
   "execution_count": 27,
   "id": "00e4048f",
   "metadata": {},
   "outputs": [
    {
     "data": {
      "text/plain": [
       "[1, 2, 3, 4, 5, 1, 2, 3, 4, 5]"
      ]
     },
     "execution_count": 27,
     "metadata": {},
     "output_type": "execute_result"
    },
    {
     "data": {
      "text/plain": [
       "[1, 2, 3, 4, 5, 1, 2, 3, 4, 5]"
      ]
     },
     "execution_count": 27,
     "metadata": {},
     "output_type": "execute_result"
    }
   ],
   "source": [
    "# List replication\n",
    "l1=[1,2,3,4,5]\n",
    "l4=l1*2\n",
    "l4"
   ]
  },
  {
   "cell_type": "markdown",
   "id": "c4d8ba85",
   "metadata": {},
   "source": [
    "10. What is difference between the list methods append() and insert()?"
   ]
  },
  {
   "cell_type": "raw",
   "id": "a0d45c52",
   "metadata": {},
   "source": [
    "append() is used to add a new element to an existing list.The new element will be added at the end.list.append(element)\n",
    "insert() is used to add a new element at the index specified.list.insert(index,element)"
   ]
  },
  {
   "cell_type": "code",
   "execution_count": 28,
   "id": "519a5f82",
   "metadata": {},
   "outputs": [
    {
     "name": "stdout",
     "output_type": "stream",
     "text": [
      "[1, 2, 3, 4, 5, 10]\n",
      "[1, 2, 3, 4, 5, 10]\n"
     ]
    }
   ],
   "source": [
    "# append()\n",
    "l1=[1,2,3,4,5]\n",
    "l1.append(10)\n",
    "print(l1)\n"
   ]
  },
  {
   "cell_type": "code",
   "execution_count": 29,
   "id": "9829fc8a",
   "metadata": {},
   "outputs": [
    {
     "name": "stdout",
     "output_type": "stream",
     "text": [
      "[1, 'a', 2, 3, 4, 5, 10]\n",
      "[1, 'a', 2, 3, 4, 5, 10]\n"
     ]
    }
   ],
   "source": [
    "#insert()\n",
    "l1=[1, 2, 3, 4, 5, 10]\n",
    "l1.insert(1,'a')\n",
    "print(l1)"
   ]
  },
  {
   "cell_type": "markdown",
   "id": "8eea822f",
   "metadata": {},
   "source": [
    "11. What are the two methods for removing items from a list?"
   ]
  },
  {
   "cell_type": "raw",
   "id": "a5037ccd",
   "metadata": {},
   "source": [
    "pop() and remove().pop() is used to remove using index.If index is not specified, it will remove the last element.remove() is used to remove the 1st occurance of the element from a given list."
   ]
  },
  {
   "cell_type": "code",
   "execution_count": 30,
   "id": "d75e65a1",
   "metadata": {},
   "outputs": [
    {
     "name": "stdout",
     "output_type": "stream",
     "text": [
      "[1, 2, 3, 4, 4, 5, 6, 7, 7, 8]\n",
      "8\n",
      "2\n",
      "[1, 3, 4, 4, 5, 6, 7, 7]\n",
      "[1, 2, 3, 4, 4, 5, 6, 7, 7, 8]\n",
      "8\n",
      "2\n",
      "[1, 3, 4, 4, 5, 6, 7, 7]\n"
     ]
    }
   ],
   "source": [
    "# pop()\n",
    "l1=[1,2,3,4,4,5,6,7,7,8]\n",
    "print(l1)\n",
    "print(l1.pop())\n",
    "print(l1.pop(1))\n",
    "print(l1)\n"
   ]
  },
  {
   "cell_type": "code",
   "execution_count": 31,
   "id": "3655e86c",
   "metadata": {},
   "outputs": [
    {
     "name": "stdout",
     "output_type": "stream",
     "text": [
      "[1, 2, 33, 4, 5, 1, 6, 7, 2, 7, 8]\n",
      "[1, 33, 4, 5, 1, 6, 7, 2, 7, 8]\n",
      "[1, 2, 33, 4, 5, 1, 6, 7, 2, 7, 8]\n",
      "[1, 33, 4, 5, 1, 6, 7, 2, 7, 8]\n"
     ]
    }
   ],
   "source": [
    "# remove()\n",
    "l1=[1,2,33,4,5,1,6,7,2,7,8]\n",
    "print(l1)\n",
    "l1.remove(2)\n",
    "print(l1)"
   ]
  },
  {
   "cell_type": "markdown",
   "id": "bd41452c",
   "metadata": {},
   "source": [
    "12. Describe how list values and string values are identical."
   ]
  },
  {
   "cell_type": "raw",
   "id": "cc2b6007",
   "metadata": {},
   "source": [
    "1. Can be passed to len() function\n",
    "2. Concatination and replication(multiplication) is possible\n",
    "3. Indexing and slicing possible.\n",
    "4. Can be used in for loops\n",
    "5. Can be used with in and not in operators. "
   ]
  },
  {
   "cell_type": "markdown",
   "id": "8b33639c",
   "metadata": {},
   "source": [
    "13. What's the difference between tuples and lists?"
   ]
  },
  {
   "cell_type": "raw",
   "id": "a6904206",
   "metadata": {},
   "source": [
    "1. Tuples are denoted as () while lists are denoted as []\n",
    "2. Tuples are immutable(Values cannot be changed) while ists are mutable.\n"
   ]
  },
  {
   "cell_type": "markdown",
   "id": "f686e53e",
   "metadata": {},
   "source": [
    "14. How do you type a tuple value that only contains the integer 42?"
   ]
  },
  {
   "cell_type": "raw",
   "id": "a19adccd",
   "metadata": {},
   "source": [
    "tuple=(42,)"
   ]
  },
  {
   "cell_type": "code",
   "execution_count": 32,
   "id": "0f77a22b",
   "metadata": {},
   "outputs": [
    {
     "data": {
      "text/plain": [
       "tuple"
      ]
     },
     "execution_count": 32,
     "metadata": {},
     "output_type": "execute_result"
    },
    {
     "data": {
      "text/plain": [
       "tuple"
      ]
     },
     "execution_count": 32,
     "metadata": {},
     "output_type": "execute_result"
    }
   ],
   "source": [
    "tuple=(42,)\n",
    "type(tuple)"
   ]
  },
  {
   "cell_type": "markdown",
   "id": "0a214320",
   "metadata": {},
   "source": [
    "15. How do you get a list value's tuple form? How do you get a tuple value's list form?"
   ]
  },
  {
   "cell_type": "raw",
   "id": "6c5f4ed3",
   "metadata": {},
   "source": [
    "tuple() and list() are used"
   ]
  },
  {
   "cell_type": "code",
   "execution_count": 33,
   "id": "45f3d447",
   "metadata": {},
   "outputs": [
    {
     "name": "stdout",
     "output_type": "stream",
     "text": [
      "[1, 2, 3, 4, 5]\n",
      "[1, 2, 3, 4, 5]\n"
     ]
    }
   ],
   "source": [
    "tuple=(1,2,3,4,5)\n",
    "l1=list(tuple)\n",
    "print(l1)"
   ]
  },
  {
   "cell_type": "markdown",
   "id": "973f9350",
   "metadata": {},
   "source": [
    "16. Variables that \"contain\" list values are not necessarily lists themselves. Instead, what do they contain?"
   ]
  },
  {
   "cell_type": "raw",
   "id": "59754341",
   "metadata": {},
   "source": [
    "They contain references to the list values."
   ]
  },
  {
   "cell_type": "markdown",
   "id": "8bd225ca",
   "metadata": {},
   "source": [
    "17. How do you distinguish between copy.copy() and copy.deepcopy()?"
   ]
  },
  {
   "cell_type": "raw",
   "id": "3bfd3ef8",
   "metadata": {},
   "source": [
    "copy.copy() is shallow copy.Any changes made to the copy of the object do reflect in the origina object.\n",
    "copy.deepcopy() is deep copy.It will duplicate the list within a list.Any changes made to the copy of the object doesnot affect the original object."
   ]
  }
 ],
 "metadata": {
  "kernelspec": {
   "display_name": "Python 3 (ipykernel)",
   "language": "python",
   "name": "python3"
  },
  "language_info": {
   "codemirror_mode": {
    "name": "ipython",
    "version": 3
   },
   "file_extension": ".py",
   "mimetype": "text/x-python",
   "name": "python",
   "nbconvert_exporter": "python",
   "pygments_lexer": "ipython3",
   "version": "3.9.12"
  }
 },
 "nbformat": 4,
 "nbformat_minor": 5
}
