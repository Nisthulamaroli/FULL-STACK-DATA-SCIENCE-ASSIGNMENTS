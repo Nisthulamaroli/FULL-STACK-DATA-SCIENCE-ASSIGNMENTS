{
 "cells": [
  {
   "cell_type": "code",
   "execution_count": null,
   "id": "5c2e43a5",
   "metadata": {},
   "outputs": [],
   "source": [
    "1. Write a Python program to check if the given number is a Disarium Number?"
   ]
  },
  {
   "cell_type": "code",
   "execution_count": 1,
   "id": "b5d2d3c8",
   "metadata": {},
   "outputs": [
    {
     "name": "stdout",
     "output_type": "stream",
     "text": [
      "Enter a number: 123\n",
      "123 is not a disarium number\n"
     ]
    }
   ],
   "source": [
    "def calculateLength(n):    \n",
    "    length = 0\n",
    "    while(n != 0):    \n",
    "        length = length + 1  \n",
    "        n = n//10    \n",
    "    return length    \n",
    "     \n",
    "num =  int(input(\"Enter a number: \"))  \n",
    "rem = sum = 0\n",
    "len = calculateLength(num)    \n",
    "n = num    \n",
    "     \n",
    "while(num > 0):    \n",
    "    rem = num%10    \n",
    "    sum = sum + int(rem**len)    \n",
    "    num = num//10    \n",
    "    len = len - 1    \n",
    "     \n",
    "   \n",
    "if(sum == n):    \n",
    "    print(str(n) + \" is a disarium number\")    \n",
    "else:    \n",
    "    print(str(n) + \" is not a disarium number\")   "
   ]
  },
  {
   "cell_type": "markdown",
   "id": "bebf1c2f",
   "metadata": {},
   "source": [
    "2. Write a Python program to print all disarium numbers between 1 to 100?"
   ]
  },
  {
   "cell_type": "code",
   "execution_count": 21,
   "id": "dbf6f12f",
   "metadata": {},
   "outputs": [
    {
     "name": "stdout",
     "output_type": "stream",
     "text": [
      "Enter lower range: 1\n",
      "Enter upper range: 100\n",
      "Disarium numbers between 1 and 100 are : \n",
      "1\n",
      "2\n",
      "3\n",
      "4\n",
      "5\n",
      "6\n",
      "7\n",
      "8\n",
      "9\n",
      "89\n"
     ]
    }
   ],
   "source": [
    "def calculateLength(n):    \n",
    "    length = 0    \n",
    "    while(n != 0):    \n",
    "        length = length + 1;    \n",
    "        n = n//10    \n",
    "    return length    \n",
    "\n",
    "def sumOfDigits(num):    \n",
    "    rem = sum = 0    \n",
    "    len = calculateLength(num)    \n",
    "        \n",
    "    while(num > 0):   \n",
    "        rem = num%10    \n",
    "        sum = sum + (rem**len)    \n",
    "        num = num//10    \n",
    "        len = len - 1    \n",
    "    return sum    \n",
    "      \n",
    "result = 0    \n",
    "lower_range = int(input(\"Enter lower range: \"))\n",
    "upper_range = int(input(\"Enter upper range: \"))\n",
    "print(\"Disarium numbers between {0} and {1} are : \".format(lower_range,upper_range))    \n",
    "for i in range(lower_range,upper_range):    \n",
    "    result = sumOfDigits(i)            \n",
    "    if(result == i):   \n",
    "        print(i)   "
   ]
  },
  {
   "cell_type": "markdown",
   "id": "8214aa9e",
   "metadata": {},
   "source": [
    "3. Write a Python program to check if the given number is Happy Number?"
   ]
  },
  {
   "cell_type": "code",
   "execution_count": 22,
   "id": "229f8c7a",
   "metadata": {},
   "outputs": [
    {
     "name": "stdout",
     "output_type": "stream",
     "text": [
      "Enter a number: 225\n",
      "225 is not a happy number\n"
     ]
    }
   ],
   "source": [
    "def happy_number(num):    \n",
    "    rem = sum = 0     \n",
    "    while(num > 0):    \n",
    "        rem = num%10;    \n",
    "        sum = sum + (rem*rem);    \n",
    "        num = num//10    \n",
    "    return sum    \n",
    "        \n",
    "num = int(input(\"Enter a number: \"))    \n",
    "result = num    \n",
    "     \n",
    "while(result != 1 and result != 4):    \n",
    "    result = happy_number(result)    \n",
    " \n",
    "if(result == 1):    \n",
    "    print(str(num) + \" is a happy number\")    \n",
    "elif(result == 4):    \n",
    "    print(str(num) + \" is not a happy number\")   "
   ]
  },
  {
   "cell_type": "markdown",
   "id": "7514acf4",
   "metadata": {},
   "source": [
    "4. Write a Python program to print all happy numbers between 1 and 100?"
   ]
  },
  {
   "cell_type": "code",
   "execution_count": 23,
   "id": "ee211568",
   "metadata": {},
   "outputs": [
    {
     "name": "stdout",
     "output_type": "stream",
     "text": [
      "Enter lower range: 1\n",
      "Enter upper range: 100\n",
      "List of happy numbers between 1 and 100 are : \n",
      "1\n",
      "7\n",
      "10\n",
      "13\n",
      "19\n",
      "23\n",
      "28\n",
      "31\n",
      "32\n",
      "44\n",
      "49\n",
      "68\n",
      "70\n",
      "79\n",
      "82\n",
      "86\n",
      "91\n",
      "94\n",
      "97\n",
      "100\n"
     ]
    }
   ],
   "source": [
    "def happy_number_interval(num):    \n",
    "    rem = sum = 0    \n",
    "    while(num > 0):    \n",
    "        rem = num%10    \n",
    "        sum = sum + (rem*rem)    \n",
    "        num = num//10    \n",
    "    return sum   \n",
    "            \n",
    "lower_range = int(input(\"Enter lower range: \"))\n",
    "upper_range = int(input(\"Enter upper range: \"))\n",
    "print(\"List of happy numbers between {0} and {1} are : \".format(lower_range,upper_range))\n",
    "for i in range(lower_range,upper_range+1):    \n",
    "    result = i    \n",
    "        \n",
    "    while(result != 1 and result != 4):    \n",
    "        result = happy_number_interval(result)    \n",
    "    if(result == 1):    \n",
    "        print(i)  "
   ]
  },
  {
   "cell_type": "markdown",
   "id": "f75a3504",
   "metadata": {},
   "source": [
    "5. Write a Python program to determine whether the given number is a Harshad Number?"
   ]
  },
  {
   "cell_type": "code",
   "execution_count": 24,
   "id": "e5d1d2fc",
   "metadata": {},
   "outputs": [
    {
     "name": "stdout",
     "output_type": "stream",
     "text": [
      "Enter a number: 225\n",
      "225 is a harshad number\n"
     ]
    }
   ],
   "source": [
    "num = int(input(\"Enter a number: \"))    \n",
    "rem = sum = 0       \n",
    "n = num;       \n",
    "while(num > 0):    \n",
    "    rem = num%10   \n",
    "    sum = sum + rem   \n",
    "    num = num//10   \n",
    " \n",
    "if(n%sum == 0):    \n",
    "    print(str(n) + \" is a harshad number\")    \n",
    "else:    \n",
    "    print(str(n) + \" is not a harshad number\")   "
   ]
  },
  {
   "cell_type": "markdown",
   "id": "0ab30952",
   "metadata": {},
   "source": [
    "6. Write a Python program to print all pronic numbers between 1 and 100?"
   ]
  },
  {
   "cell_type": "code",
   "execution_count": 26,
   "id": "f6484d96",
   "metadata": {},
   "outputs": [
    {
     "name": "stdout",
     "output_type": "stream",
     "text": [
      "Enter lower range: 1\n",
      "Enter upper range: 100\n",
      "Pronic numbers between 1 and 100: \n",
      "2\n",
      "6\n",
      "12\n",
      "20\n",
      "30\n",
      "42\n",
      "56\n",
      "72\n",
      "90\n"
     ]
    }
   ],
   "source": [
    "def pronic_number(num):    \n",
    "    flag = False    \n",
    "        \n",
    "    for j in range(1, num+1):    \n",
    "        #Checks for pronic number by multiplying consecutive numbers    \n",
    "        if((j*(j+1)) == num):    \n",
    "            flag = True    \n",
    "            break    \n",
    "    return flag    \n",
    "     \n",
    "#Displays pronic numbers between 1 and 100\n",
    "lower_range = int(input(\"Enter lower range: \"))\n",
    "upper_range = int(input(\"Enter upper range: \"))\n",
    "print(\"Pronic numbers between {0} and {1}: \".format(lower_range,upper_range))    \n",
    "for i in range(lower_range,upper_range+1):  \n",
    "    if(pronic_number(i)):    \n",
    "        print(i)"
   ]
  },
  {
   "cell_type": "code",
   "execution_count": null,
   "id": "c7564b25",
   "metadata": {},
   "outputs": [],
   "source": []
  }
 ],
 "metadata": {
  "kernelspec": {
   "display_name": "Python 3 (ipykernel)",
   "language": "python",
   "name": "python3"
  },
  "language_info": {
   "codemirror_mode": {
    "name": "ipython",
    "version": 3
   },
   "file_extension": ".py",
   "mimetype": "text/x-python",
   "name": "python",
   "nbconvert_exporter": "python",
   "pygments_lexer": "ipython3",
   "version": "3.9.12"
  }
 },
 "nbformat": 4,
 "nbformat_minor": 5
}
