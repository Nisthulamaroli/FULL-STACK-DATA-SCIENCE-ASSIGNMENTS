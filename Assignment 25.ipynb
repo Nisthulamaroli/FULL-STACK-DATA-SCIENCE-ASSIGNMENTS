{
 "cells": [
  {
   "cell_type": "markdown",
   "id": "35009763",
   "metadata": {},
   "source": [
    "1) . What is the difference between enclosing a list comprehension in square brackets and\n",
    "parentheses?"
   ]
  },
  {
   "cell_type": "raw",
   "id": "9b7ed641",
   "metadata": {},
   "source": [
    "Enclosing a list comprehension in square brackets returns a list.but where as enclosing a list comprehension in parentheses returns a generator object"
   ]
  },
  {
   "cell_type": "raw",
   "id": "da2ba9ad",
   "metadata": {},
   "source": [
    "2) What is the relationship between generators and iterators?"
   ]
  },
  {
   "cell_type": "raw",
   "id": "0127285a",
   "metadata": {},
   "source": [
    "An iterator is an object which contains a countable number of values and it is used to iterate over iterable objects like list, tuples, sets, etc. Iterators are implemented using a class. It follows lazy evaluation where the evaluation of the expression will be on hold and stored in the memory until the item is called specifically which helps us to avoid repeated evaluation. As lazy evaluation is implemented, it requires only 1 memory location to process the value and when we are using a large dataset then, wastage of RAM space will be reduced the need to load the entire dataset at the same time will not be there.For an iterator: iter() keyword is used to create an iterator containing an iterable object.next() keyword is used to call the next element in the iterable object.\n",
    "\n",
    "Similarly Generators are an another way of creating iterators in a simple way where it uses the keyword yield statement instead of return statement in a defined function.Generators are implemented using a function. Just as iterators, generators also follow lazy evaluation. Here, the yield function returns the data without affecting or exiting the function. It will return a sequence of data in an iterable format where we need to iterate over the sequence to use the data as they won’t store the entire sequence in the memory."
   ]
  },
  {
   "cell_type": "markdown",
   "id": "eadcfd68",
   "metadata": {},
   "source": [
    "3) What are the signs that a function is a generator function?"
   ]
  },
  {
   "cell_type": "raw",
   "id": "5d8ed7d8",
   "metadata": {},
   "source": [
    "It uses yield as return statement."
   ]
  },
  {
   "cell_type": "markdown",
   "id": "ddfc59fa",
   "metadata": {},
   "source": [
    "4) What is the purpose of a yield statement?"
   ]
  },
  {
   "cell_type": "raw",
   "id": "7b422bca",
   "metadata": {},
   "source": [
    "Yield is a keyword in Python that is used to return from a function without destroying the states of its local variable and when the function is called, the execution starts from the last yield statement. Any function that contains a yield keyword is termed as generator. Hence, yield is what makes a generator. yield keyword in Python is less known off but has a greater utility which one can think of."
   ]
  },
  {
   "cell_type": "markdown",
   "id": "3f6df094",
   "metadata": {},
   "source": [
    "5) What is the relationship between map calls and list comprehensions? Make a comparison and\n",
    "contrast between the two."
   ]
  },
  {
   "cell_type": "raw",
   "id": "12e4a8f5",
   "metadata": {},
   "source": [
    "List comprehension is more concise and easier to read as compared to map.\n",
    "List comprehension allows filtering. In map, we have no such facility. For example, to print all odd numbers in range of 25, we can write [n for n in range(25) if n%2 != 0]. There is no alternate for it in map\n",
    "List comprehension are used when a list of results is required as final output.but map only returns a map object. it needs to be explicitly coverted to desired datatype.\n",
    "List comprehension is faster than map when we need to evaluate expressions that are too long or complicated to express\n",
    "Map is faster in case of calling an already defined function on a set of values."
   ]
  }
 ],
 "metadata": {
  "kernelspec": {
   "display_name": "Python 3 (ipykernel)",
   "language": "python",
   "name": "python3"
  },
  "language_info": {
   "codemirror_mode": {
    "name": "ipython",
    "version": 3
   },
   "file_extension": ".py",
   "mimetype": "text/x-python",
   "name": "python",
   "nbconvert_exporter": "python",
   "pygments_lexer": "ipython3",
   "version": "3.9.12"
  }
 },
 "nbformat": 4,
 "nbformat_minor": 5
}
