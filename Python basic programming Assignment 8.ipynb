{
 "cells": [
  {
   "cell_type": "markdown",
   "id": "bd20f461",
   "metadata": {},
   "source": [
    "1. Write a Python Program to Add Two Matrices?"
   ]
  },
  {
   "cell_type": "code",
   "execution_count": null,
   "id": "612fdc4e",
   "metadata": {},
   "outputs": [],
   "source": [
    "import numpy as np\n",
    "X = [[1,3,3],\n",
    "    [4,5,6],\n",
    "    [7 ,8,9]]\n",
    "\n",
    "Y = [[10,11,12],\n",
    "    [13,14,15],\n",
    "    [16,17,18]]\n",
    " \n",
    "\n",
    "result = [[0,0,0],\n",
    "         [0,0,0],\n",
    "         [0,0,0]]\n",
    "if len(X)==len(Y) and len(X[0])==len(Y[0]):\n",
    "    print(\"Addition is possible\")\n",
    "    for i in range(len(X)):\n",
    "        for j in range(len(X[0])):\n",
    "            result[i][j] = X[i][j] + Y[i][j]    \n",
    "\n",
    "    for r in result:\n",
    "        print(r)\n",
    "else:\n",
    "    print(\"Dimensions of both matrics are not equal.So not possible to perform addition\")\n"
   ]
  },
  {
   "cell_type": "code",
   "execution_count": null,
   "id": "382a79da",
   "metadata": {},
   "outputs": [],
   "source": [
    "np.add(X,Y)"
   ]
  },
  {
   "cell_type": "markdown",
   "id": "c541a982",
   "metadata": {},
   "source": [
    "2. Write a Python Program to Multiply Two Matrices?"
   ]
  },
  {
   "cell_type": "code",
   "execution_count": null,
   "id": "5cee586c",
   "metadata": {},
   "outputs": [],
   "source": [
    "import numpy as np\n",
    "X = [[1,3,3],\n",
    "    [4,5,6],\n",
    "    [7 ,8,9]]\n",
    "\n",
    "Y = [[10,11,12],\n",
    "    [13,14,15],\n",
    "    [16,17,18]]\n",
    " \n",
    "\n",
    "result = [[0,0,0],\n",
    "         [0,0,0],\n",
    "         [0,0,0]]\n",
    "if len(X[0])==len(Y):\n",
    "    print(\"Multiplication is possible\")\n",
    "    for i in range(len(X)):\n",
    "        for j in range(len(X[0])):\n",
    "            result[i][j] = X[i][j] * Y[i][j]    \n",
    "\n",
    "    for r in result:\n",
    "        print(r)\n",
    "else:\n",
    "    print(\"No of rows in X isnot equal to no of columns in Y.So multiplication isnot possible\")\n"
   ]
  },
  {
   "cell_type": "code",
   "execution_count": null,
   "id": "4d73b337",
   "metadata": {},
   "outputs": [],
   "source": [
    "np.multiply(X,Y)"
   ]
  },
  {
   "cell_type": "markdown",
   "id": "38377b78",
   "metadata": {},
   "source": [
    "3. Write a Python Program to Transpose a Matrix?"
   ]
  },
  {
   "cell_type": "code",
   "execution_count": null,
   "id": "131a9bbf",
   "metadata": {},
   "outputs": [],
   "source": [
    "X = [[1,2,3],\n",
    "    [4,5,6],\n",
    "    [7 ,8,9]]\n",
    "\n",
    "\n",
    "result = [[0,0,0],\n",
    "         [0,0,0],\n",
    "         [0,0,0]]\n",
    "\n",
    "for i in range(len(X)):\n",
    "        for j in range(len(X[0])):\n",
    "            result[j][i] = X[i][j]\n",
    "    \n",
    "\n",
    "for r in result:\n",
    "    print(r)\n"
   ]
  },
  {
   "cell_type": "code",
   "execution_count": null,
   "id": "c4a9b339",
   "metadata": {},
   "outputs": [],
   "source": [
    "np.transpose(X)"
   ]
  },
  {
   "cell_type": "markdown",
   "id": "4bef52aa",
   "metadata": {},
   "source": [
    "4. Write a Python Program to Sort Words in Alphabetic Order?"
   ]
  },
  {
   "cell_type": "code",
   "execution_count": 1,
   "id": "467fe741",
   "metadata": {},
   "outputs": [
    {
     "name": "stdout",
     "output_type": "stream",
     "text": [
      "Enter a string: I am Nisthula and I am a student of ineuron\n",
      "The sorted words are:\n",
      "a\n",
      "am\n",
      "am\n",
      "and\n",
      "i\n",
      "i\n",
      "ineuron\n",
      "nisthula\n",
      "of\n",
      "student\n"
     ]
    }
   ],
   "source": [
    "my_str = input(\"Enter a string: \")\n",
    "words = [word.lower() for word in my_str.split()]\n",
    "words.sort()\n",
    "print(\"The sorted words are:\")\n",
    "for word in words:\n",
    "    print(word)"
   ]
  },
  {
   "cell_type": "markdown",
   "id": "6ccfd847",
   "metadata": {},
   "source": [
    "5. Write a Python Program to Remove Punctuation From a String?"
   ]
  },
  {
   "cell_type": "code",
   "execution_count": 4,
   "id": "08859314",
   "metadata": {},
   "outputs": [
    {
     "name": "stdout",
     "output_type": "stream",
     "text": [
      "Enter a string: Hi,there. How are you? Happy to see you\n",
      "Hithere How are you Happy to see you\n"
     ]
    }
   ],
   "source": [
    "my_str = input(\"Enter a string: \")\n",
    "punctuations = '''!()-[]{};:'\"\\,<>./?@#$%^&*_~'''\n",
    "new_string=\"\"\n",
    "for word in my_str:\n",
    "    if word not in punctuations:\n",
    "        new_string=new_string+word\n",
    "print(new_string)"
   ]
  },
  {
   "cell_type": "code",
   "execution_count": null,
   "id": "fb7b24f7",
   "metadata": {},
   "outputs": [],
   "source": []
  }
 ],
 "metadata": {
  "kernelspec": {
   "display_name": "Python 3 (ipykernel)",
   "language": "python",
   "name": "python3"
  },
  "language_info": {
   "codemirror_mode": {
    "name": "ipython",
    "version": 3
   },
   "file_extension": ".py",
   "mimetype": "text/x-python",
   "name": "python",
   "nbconvert_exporter": "python",
   "pygments_lexer": "ipython3",
   "version": "3.9.12"
  }
 },
 "nbformat": 4,
 "nbformat_minor": 5
}
