{
 "cells": [
  {
   "cell_type": "markdown",
   "id": "dff2297c",
   "metadata": {},
   "source": [
    "1. What is the name of the feature responsible for generating Regex objects?"
   ]
  },
  {
   "cell_type": "raw",
   "id": "cdea274e",
   "metadata": {},
   "source": [
    "re.compile() function is used for generating regex object.This function returns regex object."
   ]
  },
  {
   "cell_type": "markdown",
   "id": "224c83bf",
   "metadata": {},
   "source": [
    "2. Why do raw strings often appear in Regex objects?"
   ]
  },
  {
   "cell_type": "raw",
   "id": "7c478616",
   "metadata": {},
   "source": [
    "Raw strings are used so that backlashes donot have to be escaped."
   ]
  },
  {
   "cell_type": "markdown",
   "id": "f6ca34a1",
   "metadata": {},
   "source": [
    "3. What is the return value of the search() method?"
   ]
  },
  {
   "cell_type": "raw",
   "id": "c4a9269c",
   "metadata": {},
   "source": [
    "The search() method will check for the string for a match.If there is a match it returns the match object  or else will return none."
   ]
  },
  {
   "cell_type": "code",
   "execution_count": 6,
   "id": "24b19b92",
   "metadata": {},
   "outputs": [
    {
     "name": "stdout",
     "output_type": "stream",
     "text": [
      "Match found: <re.Match object; span=(0, 1), match='I'>\n"
     ]
    },
    {
     "data": {
      "text/plain": [
       "re.Match"
      ]
     },
     "execution_count": 6,
     "metadata": {},
     "output_type": "execute_result"
    }
   ],
   "source": [
    "import re\n",
    "a=\"I am a student of ineuron and i am studing python\"\n",
    "b=re.search('I',a)\n",
    "print(\"Match found:\",b)\n",
    "type(b)"
   ]
  },
  {
   "cell_type": "markdown",
   "id": "f7cc1409",
   "metadata": {},
   "source": [
    "4. From a Match item, how do you get the actual strings that match the pattern?"
   ]
  },
  {
   "cell_type": "raw",
   "id": "4eb26e25",
   "metadata": {},
   "source": [
    "group() method is used to get the actual match"
   ]
  },
  {
   "cell_type": "code",
   "execution_count": 8,
   "id": "bb4fe6f5",
   "metadata": {},
   "outputs": [
    {
     "name": "stdout",
     "output_type": "stream",
     "text": [
      "Match found: I\n"
     ]
    },
    {
     "data": {
      "text/plain": [
       "re.Match"
      ]
     },
     "execution_count": 8,
     "metadata": {},
     "output_type": "execute_result"
    }
   ],
   "source": [
    "a=\"I am a student of ineuron and i am studing python\"\n",
    "b=re.search('I',a)\n",
    "print(\"Match found:\",b.group())\n",
    "type(b)"
   ]
  },
  {
   "cell_type": "markdown",
   "id": "3581fa87",
   "metadata": {},
   "source": [
    "5. In the regex which created from the r'(\\d\\d\\d)-(\\d\\d\\d-\\d\\d\\d\\d)', what does group zero cover?\n",
    "Group 2? Group 1?"
   ]
  },
  {
   "cell_type": "raw",
   "id": "6f75c61a",
   "metadata": {},
   "source": [
    "Group zero is an entire match.\n",
    "Group 2 covers the second set if parenthesis.\n",
    "Group 1 covers the first set of parenthesis."
   ]
  },
  {
   "cell_type": "markdown",
   "id": "a864783a",
   "metadata": {},
   "source": [
    "6. In standard expression syntax, parentheses and intervals have distinct meanings. How can you tell\n",
    "a regex that you want it to fit real parentheses and periods?"
   ]
  },
  {
   "cell_type": "raw",
   "id": "23b5f1ec",
   "metadata": {},
   "source": [
    "Periods and parentheses can be escaped with a backslash: \\"
   ]
  },
  {
   "cell_type": "markdown",
   "id": "a8333a8e",
   "metadata": {},
   "source": [
    "7. The findall() method returns a string list or a list of string tuples. What causes it to return one of\n",
    "the two options?"
   ]
  },
  {
   "cell_type": "raw",
   "id": "c775f7cf",
   "metadata": {},
   "source": [
    "If the regex has a group then it will return list of string tuples.\n",
    "If the regex doesnot hav a group then it will return a string list."
   ]
  },
  {
   "cell_type": "markdown",
   "id": "125847b4",
   "metadata": {},
   "source": [
    "8. In standard expressions, what does the | character mean?"
   ]
  },
  {
   "cell_type": "raw",
   "id": "fea689ac",
   "metadata": {},
   "source": [
    "The | character signifies matching \"either, or\" between two groups."
   ]
  },
  {
   "cell_type": "markdown",
   "id": "5f6435ee",
   "metadata": {},
   "source": [
    "9. In regular expressions, what does the ? character stand for?"
   ]
  },
  {
   "cell_type": "raw",
   "id": "dca3a47c",
   "metadata": {},
   "source": [
    "It stands for either zero match or one match with the preceeding group."
   ]
  },
  {
   "cell_type": "markdown",
   "id": "4e4ba228",
   "metadata": {},
   "source": [
    "10.In regular expressions, what is the difference between the + and * characters?"
   ]
  },
  {
   "cell_type": "raw",
   "id": "e5293b71",
   "metadata": {},
   "source": [
    "+ character represents one or more match.\n",
    "* chracter represents zero or more match."
   ]
  },
  {
   "cell_type": "markdown",
   "id": "1c93afd7",
   "metadata": {},
   "source": [
    "11. What is the difference between {4} and {4,5} in regular expression?"
   ]
  },
  {
   "cell_type": "raw",
   "id": "815c2707",
   "metadata": {},
   "source": [
    "{4} matches exactly three instances of the preceding group.\n",
    "{4,5} matches between four and five instances."
   ]
  },
  {
   "cell_type": "markdown",
   "id": "2004c5ad",
   "metadata": {},
   "source": [
    "12. What do you mean by the \\d, \\w, and \\s shorthand character classes signify in regular\n",
    "expressions?"
   ]
  },
  {
   "cell_type": "raw",
   "id": "a5f6f5a9",
   "metadata": {},
   "source": [
    "\\d-  match a single digit.\n",
    "\\w- match a single word\n",
    "\\s- match a single space."
   ]
  },
  {
   "cell_type": "markdown",
   "id": "127b6847",
   "metadata": {},
   "source": [
    "13. What do means by \\D, \\W, and \\S shorthand character classes signify in regular expressions?"
   ]
  },
  {
   "cell_type": "raw",
   "id": "74074685",
   "metadata": {},
   "source": [
    "\\D class match a single character that is not a digit.\n",
    "\\W class match a single character that is not aword.\n",
    "\\S class match a single character that is not a space."
   ]
  },
  {
   "cell_type": "markdown",
   "id": "7d60fae8",
   "metadata": {},
   "source": [
    "14. What is the difference between .*? and .*?"
   ]
  },
  {
   "cell_type": "raw",
   "id": "ec4046f0",
   "metadata": {},
   "source": [
    ".* is a Greedy mode, which returns the longest string that meets the condition. Whereas .*? is a non greedy mode which returns the shortest string that meets the condition."
   ]
  },
  {
   "cell_type": "markdown",
   "id": "3fd3cc01",
   "metadata": {},
   "source": [
    "15. What is the syntax for matching both numbers and lowercase letters with a character class?"
   ]
  },
  {
   "cell_type": "raw",
   "id": "90ee35f2",
   "metadata": {},
   "source": [
    "Either [0-9a-z] or [a-z0-9]"
   ]
  },
  {
   "cell_type": "markdown",
   "id": "5240402d",
   "metadata": {},
   "source": [
    "16. What is the procedure for making a normal expression in regax case insensitive?"
   ]
  },
  {
   "cell_type": "raw",
   "id": "d328fbe0",
   "metadata": {},
   "source": [
    "re.IGNORECASE can be used t make it case insensitive."
   ]
  },
  {
   "cell_type": "markdown",
   "id": "108c5639",
   "metadata": {},
   "source": [
    "17. What does the . character normally match? What does it match if re.DOTALL is passed as 2nd\n",
    "argument in re.compile()?"
   ]
  },
  {
   "cell_type": "raw",
   "id": "90e0125f",
   "metadata": {},
   "source": [
    "The . character normally matches any character except the newline character. If re.DOTALL is passed as the second argument to re.compile(), then the dot will also match newline characters."
   ]
  },
  {
   "cell_type": "markdown",
   "id": "90c5605d",
   "metadata": {},
   "source": [
    "18. If numRegex = re.compile(r'\\d+'), what will numRegex.sub('X', '11 drummers, 10 pipers, five rings, 4 hen') return?"
   ]
  },
  {
   "cell_type": "code",
   "execution_count": 11,
   "id": "5b1ff197",
   "metadata": {},
   "outputs": [
    {
     "data": {
      "text/plain": [
       "'X drummers, X pipers, five rings, X hen'"
      ]
     },
     "execution_count": 11,
     "metadata": {},
     "output_type": "execute_result"
    }
   ],
   "source": [
    "numRegex = re.compile(r'\\d+')\n",
    "numRegex.sub('X', '11 drummers, 10 pipers, five rings, 4 hen')"
   ]
  },
  {
   "cell_type": "markdown",
   "id": "e57ac17e",
   "metadata": {},
   "source": [
    "19. What does passing re.VERBOSE as the 2nd argument to re.compile() allow to do?"
   ]
  },
  {
   "cell_type": "raw",
   "id": "1c0f7248",
   "metadata": {},
   "source": [
    "The re.VERBOSE argument allows you to add whitespace and comments to the string passed to re.compile()."
   ]
  },
  {
   "cell_type": "markdown",
   "id": "80292b27",
   "metadata": {},
   "source": [
    "20. How would you write a regex that match a number with comma for every three digits? It must match the given following:\n",
    "\n",
    "'42'\n",
    "'1,234'\n",
    "'6,368,745'\n",
    "\n",
    "but not the following:\n",
    "\n",
    "'12,34,567' (which has only two digits between the commas)\n",
    "'1234' (which lacks commas)"
   ]
  },
  {
   "cell_type": "raw",
   "id": "8f9f3e76",
   "metadata": {},
   "source": [
    "re.compile(r'^\\d{1,3}(,\\d{3})*$') will create this regex"
   ]
  },
  {
   "cell_type": "markdown",
   "id": "9da0a0e7",
   "metadata": {},
   "source": [
    "21. How would you write a regex that matches the full name of someone whose last name is\n",
    "Watanabe? You can assume that the first name that comes before it will always be one word that\n",
    "begins with a capital letter. The regex must match the following:\n",
    "\n",
    "'Haruto Watanabe'\n",
    "'Alice Watanabe'\n",
    "'RoboCop Watanabe'\n",
    "\n",
    "but not the following:\n",
    "\n",
    "'haruto Watanabe' (where the first name is not capitalized)\n",
    "'Mr. Watanabe' (where the preceding word has a nonletter character)\n",
    "'Watanabe' (which has no first name)\n",
    "'Haruto watanabe' (where Watanabe is not capitalized)"
   ]
  },
  {
   "cell_type": "raw",
   "id": "84434f0b",
   "metadata": {},
   "source": [
    "pattern = r'[A-Z]{1}[a-z]*\\sWatanabe'"
   ]
  },
  {
   "cell_type": "markdown",
   "id": "50877298",
   "metadata": {},
   "source": [
    "22. How would you write a regex that matches a sentence where the first word is either Alice, Bob,\n",
    "or Carol; the second word is either eats, pets, or throws; the third word is apples, cats, or baseballs;\n",
    "and the sentence ends with a period? This regex should be case-insensitive. It must match the\n",
    "following:\n",
    "\n",
    "'Alice eats apples.'\n",
    "'Bob pets cats.'\n",
    "'Carol throws baseballs.'\n",
    "'Alice throws Apples.'\n",
    "'BOB EATS CATS.'\n",
    "\n",
    "but not the following:\n",
    "\n",
    "'RoboCop eats apples.'\n",
    "'ALICE THROWS FOOTBALLS.'\n",
    "'Carol eats 7 cats.'"
   ]
  },
  {
   "cell_type": "raw",
   "id": "9eccb9f2",
   "metadata": {},
   "source": [
    "r'(Alice|Bob|Carol)\\s(ests|pets|throws)\\s(apples|cats|baseballs)\\',re.IGNORECASE"
   ]
  }
 ],
 "metadata": {
  "kernelspec": {
   "display_name": "Python 3 (ipykernel)",
   "language": "python",
   "name": "python3"
  },
  "language_info": {
   "codemirror_mode": {
    "name": "ipython",
    "version": 3
   },
   "file_extension": ".py",
   "mimetype": "text/x-python",
   "name": "python",
   "nbconvert_exporter": "python",
   "pygments_lexer": "ipython3",
   "version": "3.9.12"
  }
 },
 "nbformat": 4,
 "nbformat_minor": 5
}
