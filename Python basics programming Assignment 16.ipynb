{
 "cells": [
  {
   "cell_type": "markdown",
   "id": "b2ef4ad1",
   "metadata": {},
   "source": [
    "1. Write a function that stutters a word as if someone is struggling to read it. The\n",
    "first two letters are repeated twice with an ellipsis ... and space after each, and then the\n",
    "word is pronounced with a question mark ?.\n",
    "Examples: \n",
    "stutter(\"incredible\") ➞ \"in... in... incredible?\"\n",
    "stutter(\"enthusiastic\") ➞ \"en... en... enthusiastic?\"\n",
    "stutter(\"outstanding\") ➞ \"ou... ou... outstanding?\"\n",
    "\n",
    "Hint :- Assume all input is in lower case and at least two characters long."
   ]
  },
  {
   "cell_type": "code",
   "execution_count": 13,
   "id": "ca41dac9",
   "metadata": {},
   "outputs": [
    {
     "name": "stdout",
     "output_type": "stream",
     "text": [
      "Enter the string:incredible\n",
      "incredible -> in...in...incredible?\n",
      "Enter the string:enthusiastic\n",
      "enthusiastic -> en...en...enthusiastic?\n",
      "Enter the string:outstanding\n",
      "outstanding -> ou...ou...outstanding?\n"
     ]
    }
   ],
   "source": [
    "def shutter():\n",
    "    string=input(\"Enter the string:\")\n",
    "    output=string[:2]+'...'+string[:2]+'...'+string+'?'\n",
    "    print(string,'->',output)\n",
    "\n",
    "\n",
    "for i in range(3):\n",
    "    shutter()"
   ]
  },
  {
   "cell_type": "markdown",
   "id": "608f7c97",
   "metadata": {},
   "source": [
    "2. Create a function that takes an angle in radians and returns the corresponding angle in degrees rounded to one decimal place ?\n",
    "Examples: radians_to_degrees(1) ➞ 57.3\n",
    "radians_to_degrees(20) ➞ 1145.9\n",
    "radians_to_degrees(50) ➞ 2864.8"
   ]
  },
  {
   "cell_type": "code",
   "execution_count": 19,
   "id": "67539f98",
   "metadata": {},
   "outputs": [
    {
     "name": "stdout",
     "output_type": "stream",
     "text": [
      "Enter angle in radians:1\n",
      "Angle in degrees: 57.29577951308232\n",
      "Enter angle in radians:20\n",
      "Angle in degrees: 1145.9155902616465\n",
      "Enter angle in radians:50\n",
      "Angle in degrees: 2864.7889756541163\n"
     ]
    }
   ],
   "source": [
    "import math\n",
    "def radians_to_degrees():\n",
    "    angle=int(input(\"Enter angle in radians:\"))\n",
    "    output=(180/math.pi)*angle\n",
    "    print(\"Angle in degrees:\",output)\n",
    "\n",
    "for i in range(3):\n",
    "    radians_to_degrees()"
   ]
  },
  {
   "cell_type": "markdown",
   "id": "5a9a2c12",
   "metadata": {},
   "source": [
    "3. In this challenge, establish if a given integer num is a Curzon number. If 1 plus 2 elevated to num is exactly divisible by 1 plus 2 multiplied by num, then num is a Curzon number. Given a non-negative integer num, implement a function that returns True if num is a Curzon number, or False otherwise.\n",
    "Examples: is_curzon(5) ➞ True # 2 ** 5 + 1 = 33 # 2 * 5 + 1 = 11 # 33 is a multiple of 11\n",
    "is_curzon(10) ➞ False # 2 ** 10 + 1 = 1025 # 2 * 10 + 1 = 21 # 1025 is not a multiple of 21 \n",
    "is_curzon(14) ➞ True # 2 ** 14 + 1 = 16385 # 2 * 14 + 1 = 29 # 16385 is a multiple of 29"
   ]
  },
  {
   "cell_type": "code",
   "execution_count": 24,
   "id": "88cd09f5",
   "metadata": {},
   "outputs": [
    {
     "name": "stdout",
     "output_type": "stream",
     "text": [
      "Enter the number:5\n",
      "True.The number is a curson number\n",
      "2**5+1=33\n",
      "2*51=11\n",
      "33 is a multiple of 11\n",
      "Enter the number:10\n",
      "False.The number isnot a curson number\n",
      "2**10+1=1025\n",
      "2*101=21\n",
      "1025 is not a multiple of 21\n",
      "Enter the number:14\n",
      "True.The number is a curson number\n",
      "2**14+1=16385\n",
      "2*141=29\n",
      "16385 is a multiple of 29\n"
     ]
    }
   ],
   "source": [
    "def curzon_num():\n",
    "    num=int(input(\"Enter the number:\"))\n",
    "    a=2**num+1\n",
    "    b=2*num+1\n",
    "    if a%b==0:\n",
    "        print(\"True.The number is a curson number\")\n",
    "        print(f'2**{num}+1={a}')\n",
    "        print(f'2*{num}1={b}')\n",
    "        print(f'{a} is a multiple of {b}')\n",
    "    else:\n",
    "        print(\"False.The number isnot a curson number\")\n",
    "        print(f'2**{num}+1={a}')\n",
    "        print(f'2*{num}1={b}')\n",
    "        print(f'{a} is not a multiple of {b}')\n",
    "        \n",
    "        \n",
    "for i in range(3):\n",
    "    curzon_num()"
   ]
  },
  {
   "cell_type": "markdown",
   "id": "1f62609f",
   "metadata": {},
   "source": [
    "4. Given the side length x find the area of a hexagon.(A=3*sqrt(3)*s**2)/2\n",
    "\n",
    "Examples\n",
    "area_of_hexagon(1) ➞ 2.6\n",
    "area_of_hexagon(2) ➞ 10.4\n",
    "area_of_hexagon(3) ➞ 23.4"
   ]
  },
  {
   "cell_type": "code",
   "execution_count": 36,
   "id": "96afca38",
   "metadata": {},
   "outputs": [
    {
     "name": "stdout",
     "output_type": "stream",
     "text": [
      "Enter the side length of a Hexagon: 1\n",
      "Area for Hexagon of sidelength 1 ➞ 2.6\n",
      "Enter the side length of a Hexagon: 2\n",
      "Area for Hexagon of sidelength 2 ➞ 10.4\n",
      "Enter the side length of a Hexagon: 3\n",
      "Area for Hexagon of sidelength 3 ➞ 23.4\n"
     ]
    }
   ],
   "source": [
    "import math\n",
    "def areaOfHexagon():\n",
    "    in_num = int(input('Enter the side length of a Hexagon: '))\n",
    "    out_num = ((3*math.sqrt(3))/2)*(pow(in_num,2))\n",
    "    print(f'Area for Hexagon of sidelength {in_num} ➞ {out_num:.1f}')\n",
    "    \n",
    "for x in range(3):\n",
    "    areaOfHexagon()          \n",
    "    "
   ]
  },
  {
   "cell_type": "markdown",
   "id": "69415b16",
   "metadata": {},
   "source": [
    "5. Create a function that returns a base-2 (binary) representation of a base-10 (decimal) string number. To convert is simple:\n",
    "((2) means base-2 and (10) means base-10)\n",
    "010101001(2) = 1 + 8 + 32 + 128.\n",
    "Going from right to left, the value of the most right bit is 1, now from that every bit to the left will be x2 the value, value of an 8 bit binary numbers are (256, 128, 64, 32, 16, 8, 4, 2, 1).\n",
    "Examples:\n",
    "binary(1) ➞ \"1\" # 1* 1 = 1 binary(5) ➞ \"101\" # 1 1 + 1 4 = 5 binary(10) ➞ \"1010\" # 1 2 + 1 8 = 10"
   ]
  },
  {
   "cell_type": "code",
   "execution_count": 37,
   "id": "adf84659",
   "metadata": {},
   "outputs": [
    {
     "name": "stdout",
     "output_type": "stream",
     "text": [
      "Enter a Number: 1\n",
      "Binary of 1 ➞ 1\n",
      "Enter a Number: 5\n",
      "Binary of 5 ➞ 101\n",
      "Enter a Number: 10\n",
      "Binary of 10 ➞ 1010\n"
     ]
    }
   ],
   "source": [
    "def getBinary():\n",
    "    in_num = int(input(\"Enter a Number: \"))\n",
    "    out_num = bin(in_num).replace('0b','') \n",
    "    print(f'Binary of {in_num} ➞ {out_num}')\n",
    "\n",
    "for x in range(3):\n",
    "    getBinary()"
   ]
  },
  {
   "cell_type": "code",
   "execution_count": null,
   "id": "cf89fd5b",
   "metadata": {},
   "outputs": [],
   "source": []
  }
 ],
 "metadata": {
  "kernelspec": {
   "display_name": "Python 3 (ipykernel)",
   "language": "python",
   "name": "python3"
  },
  "language_info": {
   "codemirror_mode": {
    "name": "ipython",
    "version": 3
   },
   "file_extension": ".py",
   "mimetype": "text/x-python",
   "name": "python",
   "nbconvert_exporter": "python",
   "pygments_lexer": "ipython3",
   "version": "3.9.12"
  }
 },
 "nbformat": 4,
 "nbformat_minor": 5
}
