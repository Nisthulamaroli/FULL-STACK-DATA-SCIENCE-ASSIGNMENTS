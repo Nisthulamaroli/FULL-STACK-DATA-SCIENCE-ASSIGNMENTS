{
 "cells": [
  {
   "cell_type": "markdown",
   "id": "bd9218d3",
   "metadata": {},
   "source": [
    "1. What are escape characters, and how do you use them?"
   ]
  },
  {
   "cell_type": "raw",
   "id": "e8e47d9b",
   "metadata": {},
   "source": [
    "To insert characters that are illegal in a string, use an escape character.An escape character is a backslash \\ followed by the character you want to insert."
   ]
  },
  {
   "cell_type": "code",
   "execution_count": 1,
   "id": "5aae15c3",
   "metadata": {},
   "outputs": [
    {
     "ename": "SyntaxError",
     "evalue": "invalid syntax (594153338.py, line 1)",
     "output_type": "error",
     "traceback": [
      "\u001b[1;36m  Input \u001b[1;32mIn [1]\u001b[1;36m\u001b[0m\n\u001b[1;33m    s=\"Hello World.We are \"ineuron\"\"\u001b[0m\n\u001b[1;37m                           ^\u001b[0m\n\u001b[1;31mSyntaxError\u001b[0m\u001b[1;31m:\u001b[0m invalid syntax\n"
     ]
    }
   ],
   "source": [
    "s=\"Hello World.We are \"ineuron\"\""
   ]
  },
  {
   "cell_type": "code",
   "execution_count": 2,
   "id": "dba337d2",
   "metadata": {},
   "outputs": [],
   "source": [
    "s=\"Hello World.We are \\\"ineuron\\\"\""
   ]
  },
  {
   "cell_type": "code",
   "execution_count": 3,
   "id": "3dbfdaec",
   "metadata": {},
   "outputs": [
    {
     "data": {
      "text/plain": [
       "'Hello World.We are \"ineuron\"'"
      ]
     },
     "execution_count": 3,
     "metadata": {},
     "output_type": "execute_result"
    }
   ],
   "source": [
    "s"
   ]
  },
  {
   "cell_type": "markdown",
   "id": "e8507e08",
   "metadata": {},
   "source": [
    "2. What do the escape characters n and t stand for?"
   ]
  },
  {
   "cell_type": "raw",
   "id": "4cd943c0",
   "metadata": {},
   "source": [
    "\\n = new line\n",
    "\\t = tab"
   ]
  },
  {
   "cell_type": "markdown",
   "id": "bf72582e",
   "metadata": {},
   "source": [
    "3. What is the way to include backslash characters in a string?"
   ]
  },
  {
   "cell_type": "raw",
   "id": "e4f0d586",
   "metadata": {},
   "source": [
    "We can use \\\\"
   ]
  },
  {
   "cell_type": "markdown",
   "id": "9c6959c3",
   "metadata": {},
   "source": [
    "4. The string \"Howl's Moving Castle\" is a correct value. Why isn't the single quote character in the word Howl's not escaped a problem?"
   ]
  },
  {
   "cell_type": "raw",
   "id": "8efc7f46",
   "metadata": {},
   "source": [
    "Because it is enclosed in double quots."
   ]
  },
  {
   "cell_type": "code",
   "execution_count": 6,
   "id": "5493fd7a",
   "metadata": {},
   "outputs": [
    {
     "name": "stdout",
     "output_type": "stream",
     "text": [
      "Howl's Moving Castle\n"
     ]
    }
   ],
   "source": [
    "print(\"Howl's Moving Castle\")"
   ]
  },
  {
   "cell_type": "markdown",
   "id": "7913502c",
   "metadata": {},
   "source": [
    "5. How do you write a string of newlines if you don't want to use the n character?"
   ]
  },
  {
   "cell_type": "raw",
   "id": "8a8f898d",
   "metadata": {},
   "source": [
    "Use tripple quots and write the string inside."
   ]
  },
  {
   "cell_type": "code",
   "execution_count": 8,
   "id": "40238bdb",
   "metadata": {},
   "outputs": [
    {
     "name": "stdout",
     "output_type": "stream",
     "text": [
      "hi\n",
      "how\n",
      "are\n",
      "you\n"
     ]
    }
   ],
   "source": [
    "print('''hi\n",
    "how\n",
    "are\n",
    "you''')"
   ]
  },
  {
   "cell_type": "markdown",
   "id": "d18b7ecd",
   "metadata": {},
   "source": [
    "6. What are the values of the given expressions?\n",
    "'Hello, world!'[1]\n",
    "'Hello, world!'[0:5]\n",
    "'Hello, world!'[:5]\n",
    "'Hello, world!'[3:]\n",
    "\n"
   ]
  },
  {
   "cell_type": "raw",
   "id": "2c20b3e5",
   "metadata": {},
   "source": [
    "'Hello, world!'[1] means it is pointing to 1st index so it is 'e"
   ]
  },
  {
   "cell_type": "code",
   "execution_count": 9,
   "id": "876e036d",
   "metadata": {},
   "outputs": [
    {
     "data": {
      "text/plain": [
       "'e'"
      ]
     },
     "execution_count": 9,
     "metadata": {},
     "output_type": "execute_result"
    }
   ],
   "source": [
    "'Hello, world!'[1]"
   ]
  },
  {
   "cell_type": "raw",
   "id": "666d4c91",
   "metadata": {},
   "source": [
    "'Hello, world!'[0:5] means it is pointing range from 0th index till 5 excluding 5th index.So 'Hello'"
   ]
  },
  {
   "cell_type": "code",
   "execution_count": 10,
   "id": "2a05fee8",
   "metadata": {},
   "outputs": [
    {
     "data": {
      "text/plain": [
       "'Hello'"
      ]
     },
     "execution_count": 10,
     "metadata": {},
     "output_type": "execute_result"
    }
   ],
   "source": [
    "'Hello, world!'[0:5]"
   ]
  },
  {
   "cell_type": "code",
   "execution_count": null,
   "id": "9649a962",
   "metadata": {},
   "outputs": [],
   "source": [
    "'Hello, world!'[:5] means it is pointing till 5th index excluding 5th index. So 'Hello'"
   ]
  },
  {
   "cell_type": "code",
   "execution_count": 11,
   "id": "5dce3f2f",
   "metadata": {},
   "outputs": [
    {
     "data": {
      "text/plain": [
       "'Hello'"
      ]
     },
     "execution_count": 11,
     "metadata": {},
     "output_type": "execute_result"
    }
   ],
   "source": [
    "'Hello, world!'[:5]"
   ]
  },
  {
   "cell_type": "code",
   "execution_count": null,
   "id": "de772ba1",
   "metadata": {},
   "outputs": [],
   "source": [
    "'Hello, world!'[3:] means points from 3rd index till last. So 'lo world!'"
   ]
  },
  {
   "cell_type": "code",
   "execution_count": 12,
   "id": "a361cd30",
   "metadata": {},
   "outputs": [
    {
     "data": {
      "text/plain": [
       "'lo, world!'"
      ]
     },
     "execution_count": 12,
     "metadata": {},
     "output_type": "execute_result"
    }
   ],
   "source": [
    "'Hello, world!'[3:]"
   ]
  },
  {
   "cell_type": "markdown",
   "id": "1e3f93f9",
   "metadata": {},
   "source": [
    "7. What are the values of the following expressions?\n",
    "'Hello'.upper()\n",
    "'Hello'.upper().isupper()\n",
    "'Hello'.upper().lower()\n"
   ]
  },
  {
   "cell_type": "raw",
   "id": "1dc9f450",
   "metadata": {},
   "source": [
    "'Hello'.upper() converts the string to upper case"
   ]
  },
  {
   "cell_type": "code",
   "execution_count": 13,
   "id": "24c07a70",
   "metadata": {},
   "outputs": [
    {
     "data": {
      "text/plain": [
       "'HELLO'"
      ]
     },
     "execution_count": 13,
     "metadata": {},
     "output_type": "execute_result"
    }
   ],
   "source": [
    "'Hello'.upper()"
   ]
  },
  {
   "cell_type": "raw",
   "id": "08294107",
   "metadata": {},
   "source": [
    "'Hello'.upper().isupper() convertsstring to uppercase and checks whether it is in upper case. So it is returning True"
   ]
  },
  {
   "cell_type": "code",
   "execution_count": 14,
   "id": "66cba65f",
   "metadata": {},
   "outputs": [
    {
     "data": {
      "text/plain": [
       "True"
      ]
     },
     "execution_count": 14,
     "metadata": {},
     "output_type": "execute_result"
    }
   ],
   "source": [
    "'Hello'.upper().isupper()"
   ]
  },
  {
   "cell_type": "raw",
   "id": "3e4f2c51",
   "metadata": {},
   "source": [
    "'Hello'.upper().lower() converts to lower case"
   ]
  },
  {
   "cell_type": "code",
   "execution_count": 15,
   "id": "e1bf0ea2",
   "metadata": {},
   "outputs": [
    {
     "data": {
      "text/plain": [
       "'hello'"
      ]
     },
     "execution_count": 15,
     "metadata": {},
     "output_type": "execute_result"
    }
   ],
   "source": [
    "'Hello'.upper().lower()"
   ]
  },
  {
   "cell_type": "markdown",
   "id": "24fdbbed",
   "metadata": {},
   "source": [
    "8. What are the values of the following expressions?\n",
    "'Remember, remember, the fifth of July.'.split()\n",
    "'-'.join('There can only one.'.split())\n"
   ]
  },
  {
   "cell_type": "code",
   "execution_count": 16,
   "id": "80b4045d",
   "metadata": {},
   "outputs": [
    {
     "data": {
      "text/plain": [
       "['Remember,', 'remember,', 'the', 'fifth', 'of', 'July.']"
      ]
     },
     "execution_count": 16,
     "metadata": {},
     "output_type": "execute_result"
    }
   ],
   "source": [
    "'Remember, remember, the fifth of July.'.split()"
   ]
  },
  {
   "cell_type": "code",
   "execution_count": 17,
   "id": "ff5e20e3",
   "metadata": {},
   "outputs": [
    {
     "data": {
      "text/plain": [
       "'There-can-only-one.'"
      ]
     },
     "execution_count": 17,
     "metadata": {},
     "output_type": "execute_result"
    }
   ],
   "source": [
    "'-'.join('There can only one.'.split())"
   ]
  },
  {
   "cell_type": "markdown",
   "id": "a5f93627",
   "metadata": {},
   "source": [
    "9. What are the methods for right-justifying, left-justifying, and centering a string?"
   ]
  },
  {
   "cell_type": "raw",
   "id": "e29b05a2",
   "metadata": {},
   "source": [
    "ljust(),rjust() and center()"
   ]
  },
  {
   "cell_type": "code",
   "execution_count": 21,
   "id": "6f33bc83",
   "metadata": {},
   "outputs": [
    {
     "data": {
      "text/plain": [
       "'Nisthula************'"
      ]
     },
     "execution_count": 21,
     "metadata": {},
     "output_type": "execute_result"
    }
   ],
   "source": [
    "name='Nisthula'\n",
    "name.ljust(20,'*')"
   ]
  },
  {
   "cell_type": "code",
   "execution_count": 23,
   "id": "22573158",
   "metadata": {},
   "outputs": [
    {
     "data": {
      "text/plain": [
       "'&&&&&&&&&&&&Nisthula'"
      ]
     },
     "execution_count": 23,
     "metadata": {},
     "output_type": "execute_result"
    }
   ],
   "source": [
    "name.rjust(20,'&')\n"
   ]
  },
  {
   "cell_type": "code",
   "execution_count": 22,
   "id": "c968a449",
   "metadata": {},
   "outputs": [
    {
     "data": {
      "text/plain": [
       "'######Nisthula######'"
      ]
     },
     "execution_count": 22,
     "metadata": {},
     "output_type": "execute_result"
    }
   ],
   "source": [
    "name.center(20,'#')"
   ]
  },
  {
   "cell_type": "markdown",
   "id": "48dda485",
   "metadata": {},
   "source": [
    "10. What is the best way to remove whitespace characters from the start or end?\n",
    "\n"
   ]
  },
  {
   "cell_type": "raw",
   "id": "8472f2bb",
   "metadata": {},
   "source": [
    "Use lstrip() and rstrip()"
   ]
  },
  {
   "cell_type": "code",
   "execution_count": 25,
   "id": "69ac3020",
   "metadata": {},
   "outputs": [
    {
     "data": {
      "text/plain": [
       "'ineuron  '"
      ]
     },
     "execution_count": 25,
     "metadata": {},
     "output_type": "execute_result"
    }
   ],
   "source": [
    "Name='  ineuron  '\n",
    "Name.lstrip()"
   ]
  },
  {
   "cell_type": "code",
   "execution_count": 26,
   "id": "6d2ad752",
   "metadata": {},
   "outputs": [
    {
     "data": {
      "text/plain": [
       "'  ineuron'"
      ]
     },
     "execution_count": 26,
     "metadata": {},
     "output_type": "execute_result"
    }
   ],
   "source": [
    "Name.rstrip()"
   ]
  }
 ],
 "metadata": {
  "kernelspec": {
   "display_name": "Python 3 (ipykernel)",
   "language": "python",
   "name": "python3"
  },
  "language_info": {
   "codemirror_mode": {
    "name": "ipython",
    "version": 3
   },
   "file_extension": ".py",
   "mimetype": "text/x-python",
   "name": "python",
   "nbconvert_exporter": "python",
   "pygments_lexer": "ipython3",
   "version": "3.9.12"
  }
 },
 "nbformat": 4,
 "nbformat_minor": 5
}
