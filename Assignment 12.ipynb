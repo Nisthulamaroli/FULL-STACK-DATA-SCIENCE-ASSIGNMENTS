{
 "cells": [
  {
   "cell_type": "markdown",
   "id": "3464b6c5",
   "metadata": {},
   "source": [
    "1. In what modes should the PdfFileReader() and PdfFileWriter() File objects will be opened?"
   ]
  },
  {
   "cell_type": "raw",
   "id": "9ebe03b0",
   "metadata": {},
   "source": [
    "PdfFileReader() file objects should be opened using read binary mode (rb).\n",
    "PdfFileWriter() file objects should be opened using write binary mode(wb)."
   ]
  },
  {
   "cell_type": "markdown",
   "id": "0c7c86cc",
   "metadata": {},
   "source": [
    "2. From a PdfFileReader object, how do you get a Page object for page 5?"
   ]
  },
  {
   "cell_type": "raw",
   "id": "15ce61a0",
   "metadata": {},
   "source": [
    "We can call getPage(4).It will return the object for page 5 as page0 is the 1st page"
   ]
  },
  {
   "cell_type": "markdown",
   "id": "952a6153",
   "metadata": {},
   "source": [
    "3. What PdfFileReader variable stores the number of pages in the PDF document?"
   ]
  },
  {
   "cell_type": "raw",
   "id": "893e9309",
   "metadata": {},
   "source": [
    "getNumPages() stores the number of pages in the PDF document."
   ]
  },
  {
   "cell_type": "markdown",
   "id": "ae27634e",
   "metadata": {},
   "source": [
    "4. If a PdfFileReader object’s PDF is encrypted with the password swordfish, what must you do\n",
    "before you can obtain Page objects from it?"
   ]
  },
  {
   "cell_type": "raw",
   "id": "f03143eb",
   "metadata": {},
   "source": [
    "We can use decrypt('swordfish') and then we can obtain the page objects witout throwing error."
   ]
  },
  {
   "cell_type": "markdown",
   "id": "52d0b58f",
   "metadata": {},
   "source": [
    "5. What methods do you use to rotate a page?"
   ]
  },
  {
   "cell_type": "raw",
   "id": "4cc1894a",
   "metadata": {},
   "source": [
    "We can do 90 degree rotation using rotateClockWise() and rotatecounterClockWise()."
   ]
  },
  {
   "cell_type": "markdown",
   "id": "ae9f51ec",
   "metadata": {},
   "source": [
    "6. What is the difference between a Run object and a Paragraph object?"
   ]
  },
  {
   "cell_type": "raw",
   "id": "2d757da8",
   "metadata": {},
   "source": [
    "We have 3 datatypes to represent a document in python.Document object represents the entire documents.Each document object contains a list of paragraph objects which represents paragraphs.Each paragraph object has a many run objects.Run objects are contiguous group of characters within a paragraph."
   ]
  },
  {
   "cell_type": "markdown",
   "id": "3359f5c2",
   "metadata": {},
   "source": [
    "7. How do you obtain a list of Paragraph objects for a Document object that’s stored in a variable\n",
    "named doc?"
   ]
  },
  {
   "cell_type": "raw",
   "id": "402931a4",
   "metadata": {},
   "source": [
    "doc.paragraphs"
   ]
  },
  {
   "cell_type": "markdown",
   "id": "e65d4a03",
   "metadata": {},
   "source": [
    "8. What type of object has bold, underline, italic, strike, and outline variables?"
   ]
  },
  {
   "cell_type": "raw",
   "id": "166dfec6",
   "metadata": {},
   "source": [
    "Run object"
   ]
  },
  {
   "cell_type": "markdown",
   "id": "a80e608a",
   "metadata": {},
   "source": [
    "9. What is the difference between False, True, and None for the bold variable?"
   ]
  },
  {
   "cell_type": "raw",
   "id": "458b5aa5",
   "metadata": {},
   "source": [
    "True - style set to bold\n",
    "False -style not set to bold\n",
    "None - Style not applicable"
   ]
  },
  {
   "cell_type": "markdown",
   "id": "94019614",
   "metadata": {},
   "source": [
    "10. How do you create a Document object for a new Word document?"
   ]
  },
  {
   "cell_type": "raw",
   "id": "f5c650f7",
   "metadata": {},
   "source": [
    "New_word_document=doc.document()"
   ]
  },
  {
   "cell_type": "markdown",
   "id": "9a00e3d3",
   "metadata": {},
   "source": [
    "11. How do you add a paragraph with the text  'Hello, there!' to a Document object stored in a\n",
    "variable named doc?"
   ]
  },
  {
   "cell_type": "raw",
   "id": "295bd064",
   "metadata": {},
   "source": [
    "By using doc.add_paragraph( 'Hello, there!')"
   ]
  },
  {
   "cell_type": "markdown",
   "id": "f1cf8b23",
   "metadata": {},
   "source": [
    "12. What integers represent the levels of headings available in Word documents?"
   ]
  },
  {
   "cell_type": "raw",
   "id": "92abbb00",
   "metadata": {},
   "source": [
    "Use add_heading(). We have 5 levels from 0 to 4.0 is the main title.1 is the main heading and the others are subheadings in the ascending order.The font size will be high for level 0 and lowest for level 4."
   ]
  }
 ],
 "metadata": {
  "kernelspec": {
   "display_name": "Python 3 (ipykernel)",
   "language": "python",
   "name": "python3"
  },
  "language_info": {
   "codemirror_mode": {
    "name": "ipython",
    "version": 3
   },
   "file_extension": ".py",
   "mimetype": "text/x-python",
   "name": "python",
   "nbconvert_exporter": "python",
   "pygments_lexer": "ipython3",
   "version": "3.9.12"
  }
 },
 "nbformat": 4,
 "nbformat_minor": 5
}
