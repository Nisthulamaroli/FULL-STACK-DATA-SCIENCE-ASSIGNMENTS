{
 "cells": [
  {
   "cell_type": "markdown",
   "id": "ac48e02d",
   "metadata": {},
   "source": [
    "1. Write a Python program to find sum of elements in list?"
   ]
  },
  {
   "cell_type": "code",
   "execution_count": 1,
   "id": "4e5b3df4",
   "metadata": {},
   "outputs": [
    {
     "name": "stdout",
     "output_type": "stream",
     "text": [
      "Enter number of elements : 5\n",
      "2\n",
      "5\n",
      "9\n",
      "6\n",
      "3\n",
      "Elements is list are :  [2, 5, 9, 6, 3]\n",
      "Sum of elements in list :  25\n"
     ]
    }
   ],
   "source": [
    "list = []\n",
    "n = int(input(\"Enter number of elements : \"))\n",
    "for i in range(0, n):\n",
    "    ele = int(input())\n",
    "    list.append(ele)\n",
    "    total = sum(list)\n",
    "print(\"Elements is list are : \",list)\n",
    "print(\"Sum of elements in list : \",total)"
   ]
  },
  {
   "cell_type": "code",
   "execution_count": 5,
   "id": "37324bfd",
   "metadata": {},
   "outputs": [
    {
     "name": "stdout",
     "output_type": "stream",
     "text": [
      "Enter the number of ele,ents:2\n",
      "5\n",
      "6\n",
      "[5, 6]\n",
      "11\n"
     ]
    }
   ],
   "source": [
    "list=[]\n",
    "n=int(input(\"Enter the number of ele,ents:\"))\n",
    "for i in range(0,n):\n",
    "    ele=int(input())\n",
    "    list.append(ele)\n",
    "    total=sum(list) \n",
    "print(list)\n",
    "print(total)"
   ]
  },
  {
   "cell_type": "markdown",
   "id": "2743e6f3",
   "metadata": {},
   "source": [
    "2. Write a Python program to Multiply all numbers in the list?"
   ]
  },
  {
   "cell_type": "code",
   "execution_count": 10,
   "id": "0aa0c78d",
   "metadata": {},
   "outputs": [
    {
     "name": "stdout",
     "output_type": "stream",
     "text": [
      "Enter the number of elements:2\n",
      "5\n",
      "2\n",
      "List: [5, 2]\n",
      "Multiplication result: 10\n"
     ]
    }
   ],
   "source": [
    "list=[]\n",
    "mul=1\n",
    "n=int(input(\"Enter the number of elements:\"))\n",
    "for i in range(0,n):\n",
    "    ele=int(input())\n",
    "    list.append(ele)\n",
    "print(\"List:\", list)\n",
    "for i in list:\n",
    "    mul=mul*i\n",
    "print(\"Multiplication result:\",mul)"
   ]
  },
  {
   "cell_type": "code",
   "execution_count": null,
   "id": "7db31cd0",
   "metadata": {},
   "outputs": [],
   "source": [
    "3. Write a Python program to find smallest number in a list?"
   ]
  },
  {
   "cell_type": "code",
   "execution_count": 14,
   "id": "85d4b3ee",
   "metadata": {},
   "outputs": [
    {
     "name": "stdout",
     "output_type": "stream",
     "text": [
      "Enter the number of elements:5\n",
      "9\n",
      "10\n",
      "8\n",
      "6\n",
      "2\n",
      "List: [9, 10, 8, 6, 2]\n",
      "Minimum value in the list: 2\n"
     ]
    }
   ],
   "source": [
    "list=[]\n",
    "n=int(input(\"Enter the number of elements:\"))\n",
    "for i in range(0,n):\n",
    "    ele=int(input())\n",
    "    list.append(ele)\n",
    "print(\"List:\", list)\n",
    "print(\"Minimum value in the list:\",min(list))\n"
   ]
  },
  {
   "cell_type": "markdown",
   "id": "2de40d35",
   "metadata": {},
   "source": [
    "4. Write a Python program to find largest number in a list?"
   ]
  },
  {
   "cell_type": "code",
   "execution_count": 15,
   "id": "f1565a3e",
   "metadata": {},
   "outputs": [
    {
     "name": "stdout",
     "output_type": "stream",
     "text": [
      "Enter the number of elements:5\n",
      "10\n",
      "99\n",
      "85\n",
      "6\n",
      "2\n",
      "List: [10, 99, 85, 6, 2]\n",
      "Largest value in the list: 99\n"
     ]
    }
   ],
   "source": [
    "list=[]\n",
    "n=int(input(\"Enter the number of elements:\"))\n",
    "for i in range(0,n):\n",
    "    ele=int(input())\n",
    "    list.append(ele)\n",
    "print(\"List:\", list)\n",
    "print(\"Largest value in the list:\",max(list))"
   ]
  },
  {
   "cell_type": "markdown",
   "id": "d58803ed",
   "metadata": {},
   "source": [
    "5. Write a Python program to find second largest number in a list?"
   ]
  },
  {
   "cell_type": "code",
   "execution_count": 20,
   "id": "a5e4428d",
   "metadata": {},
   "outputs": [
    {
     "name": "stdout",
     "output_type": "stream",
     "text": [
      "Enter the number of elements:5\n",
      "66\n",
      "28\n",
      "099\n",
      "89\n",
      "2\n",
      "List: [66, 28, 99, 89, 2]\n",
      "Sorted list: [2, 28, 66, 89, 99]\n",
      "2nd largest element: 89\n"
     ]
    }
   ],
   "source": [
    "list=[]\n",
    "n=int(input(\"Enter the number of elements:\"))\n",
    "j=0\n",
    "for i in range(0,n):\n",
    "    ele=int(input())\n",
    "    list.append(ele)\n",
    "print(\"List:\", list)\n",
    "list.sort()\n",
    "print(\"Sorted list:\",list)\n",
    "print(\"2nd largest element:\", list[-2])"
   ]
  },
  {
   "cell_type": "markdown",
   "id": "c51914d4",
   "metadata": {},
   "source": [
    "6. Write a Python program to find N largest elements from a list?"
   ]
  },
  {
   "cell_type": "code",
   "execution_count": 23,
   "id": "09b005b4",
   "metadata": {},
   "outputs": [
    {
     "name": "stdout",
     "output_type": "stream",
     "text": [
      "Enter the number of elements:5\n",
      "66\n",
      "98\n",
      "78\n",
      "0\n",
      "55\n",
      "List: [66, 98, 78, 0, 55]\n",
      "Enter the value of N:3\n",
      "{3} Largest elements are: [66, 78, 98]\n"
     ]
    }
   ],
   "source": [
    "list=[]\n",
    "n=int(input(\"Enter the number of elements:\"))\n",
    "j=0\n",
    "for i in range(0,n):\n",
    "    ele=int(input())\n",
    "    list.append(ele)\n",
    "print(\"List:\", list)\n",
    "list.sort()\n",
    "m=int(input(\"Enter the value of N:\"))\n",
    "print({m},\"Largest elements are:\",list[-m:])"
   ]
  },
  {
   "cell_type": "markdown",
   "id": "36b20c65",
   "metadata": {},
   "source": [
    "7. Write a Python program to print even numbers in a list?"
   ]
  },
  {
   "cell_type": "code",
   "execution_count": 30,
   "id": "f6e0977a",
   "metadata": {},
   "outputs": [
    {
     "name": "stdout",
     "output_type": "stream",
     "text": [
      "Enter the number of elements:5\n",
      "6\n",
      "8\n",
      "19\n",
      "27\n",
      "99\n",
      "List: [6, 8, 19, 27, 99]\n",
      "Even numbers list: [6, 8]\n"
     ]
    }
   ],
   "source": [
    "list=[]\n",
    "even=[]\n",
    "n=int(input(\"Enter the number of elements:\"))\n",
    "j=0\n",
    "for i in range(0,n):\n",
    "    ele=int(input())\n",
    "    list.append(ele)\n",
    "print(\"List:\", list)\n",
    "for j in list:\n",
    "    if j%2==0:\n",
    "        even.append(j)\n",
    "print(\"Even numbers list:\",even)            \n",
    "        "
   ]
  },
  {
   "cell_type": "markdown",
   "id": "6b868a5e",
   "metadata": {},
   "source": [
    "8. Write a Python program to print odd numbers in a List?"
   ]
  },
  {
   "cell_type": "code",
   "execution_count": 31,
   "id": "a35e30cc",
   "metadata": {},
   "outputs": [
    {
     "name": "stdout",
     "output_type": "stream",
     "text": [
      "Enter the number of elements:5\n",
      "6\n",
      "8\n",
      "19\n",
      "27\n",
      "99\n",
      "List: [6, 8, 19, 27, 99]\n",
      "odd numbers list: [19, 27, 99]\n"
     ]
    }
   ],
   "source": [
    "list=[]\n",
    "odd=[]\n",
    "n=int(input(\"Enter the number of elements:\"))\n",
    "j=0\n",
    "for i in range(0,n):\n",
    "    ele=int(input())\n",
    "    list.append(ele)\n",
    "print(\"List:\", list)\n",
    "for j in list:\n",
    "    if j%2==1:\n",
    "        odd.append(j)\n",
    "print(\"odd numbers list:\",odd) "
   ]
  },
  {
   "cell_type": "markdown",
   "id": "2e035b98",
   "metadata": {},
   "source": [
    "9. Write a Python program to Remove empty List from List?"
   ]
  },
  {
   "cell_type": "code",
   "execution_count": 41,
   "id": "90d36adb",
   "metadata": {},
   "outputs": [
    {
     "name": "stdout",
     "output_type": "stream",
     "text": [
      "The original list is : [250, 170, [3], 7, [], [], 8]\n",
      "The list after remobing empty list: [250, 170, [3], 7, 8]\n"
     ]
    }
   ],
   "source": [
    "test_list = [250, 170, [3], 7, [], [], 8]\n",
    "l1=[]\n",
    "print(\"The original list is : \" + str(test_list))\n",
    "for i in test_list:\n",
    "    if i!=[]:\n",
    "        l1.append(i)\n",
    "print(\"The list after remobing empty list:\", l1)\n"
   ]
  },
  {
   "cell_type": "markdown",
   "id": "89e5df2a",
   "metadata": {},
   "source": [
    "10. Write a Python program to Cloning or Copying a list?"
   ]
  },
  {
   "cell_type": "code",
   "execution_count": 43,
   "id": "bed53a57",
   "metadata": {},
   "outputs": [
    {
     "name": "stdout",
     "output_type": "stream",
     "text": [
      "Enter the number of elements:5\n",
      "65\n",
      "0\n",
      "98\n",
      "36\n",
      "8\n",
      "List: [65, 0, 98, 36, 8]\n",
      "The cloned or coppird list is : [65, 0, 98, 36, 8]\n"
     ]
    }
   ],
   "source": [
    "list=[]\n",
    "new=[]\n",
    "n=int(input(\"Enter the number of elements:\"))\n",
    "for i in range(0,n):\n",
    "    ele=int(input())\n",
    "    list.append(ele)\n",
    "print(\"List:\", list)\n",
    "for i in list:\n",
    "    new.append(i)\n",
    "print(\"The cloned or coppird list is :\",new)"
   ]
  },
  {
   "cell_type": "markdown",
   "id": "35b24edc",
   "metadata": {},
   "source": [
    "11. Write a Python program to Count occurrences of an element in a list?"
   ]
  },
  {
   "cell_type": "code",
   "execution_count": 46,
   "id": "1c54a1da",
   "metadata": {},
   "outputs": [
    {
     "name": "stdout",
     "output_type": "stream",
     "text": [
      "Enter number of elements : 5\n",
      "9\n",
      "2\n",
      "3\n",
      "9\n",
      "2\n",
      "Enter the number to see its count in the list: 2\n",
      "2 has occurred 2 times\n"
     ]
    }
   ],
   "source": [
    "def countX(lst, x):\n",
    "    count = 0\n",
    "    for item in lst:\n",
    "        if (item == x):\n",
    "            count = count + 1\n",
    "    return count\n",
    "lst = []\n",
    "n = int(input(\"Enter number of elements : \"))\n",
    "for i in range(0, n):\n",
    "    ele = int(input())\n",
    "    lst.append(ele)\n",
    "x = int(input(\"Enter the number to see its count in the list: \"))\n",
    "print('{} has occurred {} times'.format(x, countX(lst, x)))\n",
    "    "
   ]
  },
  {
   "cell_type": "code",
   "execution_count": null,
   "id": "10c9df6d",
   "metadata": {},
   "outputs": [],
   "source": []
  }
 ],
 "metadata": {
  "kernelspec": {
   "display_name": "Python 3 (ipykernel)",
   "language": "python",
   "name": "python3"
  },
  "language_info": {
   "codemirror_mode": {
    "name": "ipython",
    "version": 3
   },
   "file_extension": ".py",
   "mimetype": "text/x-python",
   "name": "python",
   "nbconvert_exporter": "python",
   "pygments_lexer": "ipython3",
   "version": "3.9.12"
  }
 },
 "nbformat": 4,
 "nbformat_minor": 5
}
