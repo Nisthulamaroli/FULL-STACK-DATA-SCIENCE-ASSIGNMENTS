{
 "cells": [
  {
   "cell_type": "markdown",
   "id": "7f889ccc",
   "metadata": {},
   "source": [
    "1. In the below elements which of them are values or an expression? eg:- values can be integer or string and expressions will be mathematical operators.\n",
    "* \n",
    "'hello'\n",
    "-87.8\n",
    "- \n",
    "/ \n",
    "+\t\n",
    "6 \n"
   ]
  },
  {
   "cell_type": "raw",
   "id": "f0cdb878",
   "metadata": {},
   "source": [
    "values : 'hello',-87.8,6\n",
    "\n",
    "Expression : *,-,/,+"
   ]
  },
  {
   "cell_type": "markdown",
   "id": "cb532f96",
   "metadata": {},
   "source": [
    "2. What is the difference between string and variable?"
   ]
  },
  {
   "cell_type": "raw",
   "id": "a816396d",
   "metadata": {},
   "source": [
    "String is a primitive datatype which is used for data manipulation.String can be alphabets,characters or words in single or double quots.String is denoted as str. Eg : \"Hello','asdf','qwe@12' Variable is a name which is used to point out an object.Variables should start with an alphabet.Variables shouldnot start with a number,but it can contain a number.Shouldnot contain special characters.It is recomented to use lower case for variables.Eg : x,y,ten,x10y"
   ]
  },
  {
   "cell_type": "markdown",
   "id": "28bb09ba",
   "metadata": {},
   "source": [
    "3. Describe three different data types."
   ]
  },
  {
   "cell_type": "raw",
   "id": "3b5d4d7e",
   "metadata": {},
   "source": [
    "1. Integers(Int) Int is a datatype which contins positive numbers without decimal points.Eg : 35,42,159\n",
    "2. Float(Float) Float is used to represent numbers with decimal points.Eg:56.21,-35.7\n",
    "3. String(str) String is used to represent aplhabets,words or characters in single or double quots.Eg : \"Hi\",\"zxcv!@cf\"\n",
    "4. Complex(Complex Complex is used to represent complex numbers. Eg : 69+5j,98-3j\n",
    "5. Boolean(Bool) This holds boolean variables. Eg : True,False"
   ]
  },
  {
   "cell_type": "markdown",
   "id": "7a108dca",
   "metadata": {},
   "source": [
    "4. What is an expression made up of? What do all expressions do?"
   ]
  },
  {
   "cell_type": "raw",
   "id": "c341f7a7",
   "metadata": {},
   "source": [
    "An expression consists of variables,values and functions. The expression should be evaluated ie, if an expression is given, the interpreter will evaluate the expression and the result is printed."
   ]
  },
  {
   "cell_type": "code",
   "execution_count": 19,
   "id": "09c93609",
   "metadata": {},
   "outputs": [
    {
     "data": {
      "text/plain": [
       "21"
      ]
     },
     "execution_count": 19,
     "metadata": {},
     "output_type": "execute_result"
    }
   ],
   "source": [
    "2+4*6-5 ##This is an expression.So the interpreter will evaluate the expression and the result will be printed in a console."
   ]
  },
  {
   "cell_type": "markdown",
   "id": "d987cdae",
   "metadata": {},
   "source": [
    "5. This assignment statements, like spam = 10. What is the difference between an expression and a statement?"
   ]
  },
  {
   "cell_type": "raw",
   "id": "f9288428",
   "metadata": {},
   "source": [
    "An expression consists of variables,values and functions. The expression should be evaluated ie, if an expression is given, the interpreter will evaluate the expression and the result is printed."
   ]
  },
  {
   "cell_type": "code",
   "execution_count": 20,
   "id": "edf991ff",
   "metadata": {},
   "outputs": [
    {
     "data": {
      "text/plain": [
       "6.0"
      ]
     },
     "execution_count": 20,
     "metadata": {},
     "output_type": "execute_result"
    }
   ],
   "source": [
    "2+9-10/2"
   ]
  },
  {
   "cell_type": "raw",
   "id": "7b879488",
   "metadata": {},
   "source": [
    "A statement is a piece of code which helps in creating a variable or display a value."
   ]
  },
  {
   "cell_type": "code",
   "execution_count": 22,
   "id": "ed870d49",
   "metadata": {},
   "outputs": [],
   "source": [
    "x=29"
   ]
  },
  {
   "cell_type": "code",
   "execution_count": 23,
   "id": "e39745ec",
   "metadata": {},
   "outputs": [
    {
     "data": {
      "text/plain": [
       "29"
      ]
     },
     "execution_count": 23,
     "metadata": {},
     "output_type": "execute_result"
    }
   ],
   "source": [
    "x"
   ]
  },
  {
   "cell_type": "code",
   "execution_count": 24,
   "id": "826ccc71",
   "metadata": {},
   "outputs": [
    {
     "name": "stdout",
     "output_type": "stream",
     "text": [
      "ineuron\n"
     ]
    }
   ],
   "source": [
    "print(\"ineuron\")"
   ]
  },
  {
   "cell_type": "markdown",
   "id": "6885df25",
   "metadata": {},
   "source": [
    "6. After running the following code, what does the variable bacon contain?\n",
    "bacon = 22\n",
    "bacon + 1\n"
   ]
  },
  {
   "cell_type": "raw",
   "id": "8321c6c6",
   "metadata": {},
   "source": [
    "22, because we didn't assign the result of baccon+1 to a variable. For getting answer as 23, we should write as bacon=bacon+1.Then print(bacon)"
   ]
  },
  {
   "cell_type": "code",
   "execution_count": 25,
   "id": "f7540e2e",
   "metadata": {},
   "outputs": [
    {
     "data": {
      "text/plain": [
       "23"
      ]
     },
     "execution_count": 25,
     "metadata": {},
     "output_type": "execute_result"
    }
   ],
   "source": [
    "bacon = 22\n",
    "bacon+1"
   ]
  },
  {
   "cell_type": "code",
   "execution_count": 28,
   "id": "0b551503",
   "metadata": {},
   "outputs": [
    {
     "data": {
      "text/plain": [
       "22"
      ]
     },
     "execution_count": 28,
     "metadata": {},
     "output_type": "execute_result"
    }
   ],
   "source": [
    "bacon"
   ]
  },
  {
   "cell_type": "code",
   "execution_count": 30,
   "id": "546eccfd",
   "metadata": {},
   "outputs": [
    {
     "name": "stdout",
     "output_type": "stream",
     "text": [
      "23\n"
     ]
    }
   ],
   "source": [
    "bacon = 22\n",
    "bacon=bacon+1\n",
    "print(bacon)"
   ]
  },
  {
   "cell_type": "markdown",
   "id": "237bc020",
   "metadata": {},
   "source": [
    "7. What should the values of the following two terms be?\n",
    "'spam' + 'spamspam'\n",
    "'spam' * 3\n",
    "\n"
   ]
  },
  {
   "cell_type": "code",
   "execution_count": 26,
   "id": "7143afa5",
   "metadata": {},
   "outputs": [
    {
     "data": {
      "text/plain": [
       "'spamspamspam'"
      ]
     },
     "execution_count": 26,
     "metadata": {},
     "output_type": "execute_result"
    }
   ],
   "source": [
    "'spam' + 'spamspam'# This is string concatination operation"
   ]
  },
  {
   "cell_type": "code",
   "execution_count": 27,
   "id": "8cc8837e",
   "metadata": {},
   "outputs": [
    {
     "data": {
      "text/plain": [
       "'spamspamspam'"
      ]
     },
     "execution_count": 27,
     "metadata": {},
     "output_type": "execute_result"
    }
   ],
   "source": [
    "'spam' * 3 # Here we are multiplying string 3 times.String multiplication operation"
   ]
  },
  {
   "cell_type": "markdown",
   "id": "f7eb2199",
   "metadata": {},
   "source": [
    "8. Why is eggs a valid variable name while 100 is invalid?"
   ]
  },
  {
   "cell_type": "raw",
   "id": "cb113fc6",
   "metadata": {},
   "source": [
    "eggs is a valid variable name because it starts with alphabet.\n",
    "100 is an invalid variable name because it starts with a number.\n",
    "In python while assigning a name to a variable we should take care of the below.\n",
    "1. Variable name should start with an alphabet.\n",
    "  Eg : x=25,ten=10\n",
    "2. Variable names should not contain any special characters like ^ % $ ! @ # ^ & * ( ).\n",
    "3. Variable names can contain numbers but you can't start with numbers.\n",
    "  Eg : ten10=10\n",
    "4. Variable name can start with uppercase alphabet.But lower case alphabet is recommended."
   ]
  },
  {
   "cell_type": "markdown",
   "id": "bdcb58a5",
   "metadata": {},
   "source": [
    "9. What three functions can be used to get the integer, floating-point number, or string version of a value?"
   ]
  },
  {
   "cell_type": "raw",
   "id": "9dcf4c0d",
   "metadata": {},
   "source": [
    "int() is used to get an integet\n",
    "float() is used to get a floating point number\n",
    "str() is used to get a string\n"
   ]
  },
  {
   "cell_type": "markdown",
   "id": "54d5c8c2",
   "metadata": {},
   "source": [
    "10. Why does this expression cause an error? How can you fix it?\n",
    "'I have eaten ' + 99 + ' burritos.'\n"
   ]
  },
  {
   "cell_type": "raw",
   "id": "a248b57b",
   "metadata": {},
   "source": [
    "The above expression causes an error because 99 is a integer and we cant concatinate and int() to a str().This can be fixed by converting 99 to string,ie '99'."
   ]
  },
  {
   "cell_type": "code",
   "execution_count": 16,
   "id": "05c777f9",
   "metadata": {},
   "outputs": [
    {
     "ename": "TypeError",
     "evalue": "can only concatenate str (not \"int\") to str",
     "output_type": "error",
     "traceback": [
      "\u001b[1;31m---------------------------------------------------------------------------\u001b[0m",
      "\u001b[1;31mTypeError\u001b[0m                                 Traceback (most recent call last)",
      "Input \u001b[1;32mIn [16]\u001b[0m, in \u001b[0;36m<cell line: 1>\u001b[1;34m()\u001b[0m\n\u001b[1;32m----> 1\u001b[0m \u001b[38;5;124;43m'\u001b[39;49m\u001b[38;5;124;43mI have eaten \u001b[39;49m\u001b[38;5;124;43m'\u001b[39;49m\u001b[43m \u001b[49m\u001b[38;5;241;43m+\u001b[39;49m\u001b[43m \u001b[49m\u001b[38;5;241;43m99\u001b[39;49m \u001b[38;5;241m+\u001b[39m \u001b[38;5;124m'\u001b[39m\u001b[38;5;124m burritos.\u001b[39m\u001b[38;5;124m'\u001b[39m\n",
      "\u001b[1;31mTypeError\u001b[0m: can only concatenate str (not \"int\") to str"
     ]
    }
   ],
   "source": [
    "'I have eaten ' + 99 + ' burritos.'"
   ]
  },
  {
   "cell_type": "code",
   "execution_count": 17,
   "id": "a075719e",
   "metadata": {},
   "outputs": [
    {
     "data": {
      "text/plain": [
       "'I have eaten 99 burritos.'"
      ]
     },
     "execution_count": 17,
     "metadata": {},
     "output_type": "execute_result"
    }
   ],
   "source": [
    "'I have eaten ' + '99' + ' burritos.'"
   ]
  },
  {
   "cell_type": "code",
   "execution_count": null,
   "id": "7607e50d",
   "metadata": {},
   "outputs": [],
   "source": []
  }
 ],
 "metadata": {
  "kernelspec": {
   "display_name": "Python 3 (ipykernel)",
   "language": "python",
   "name": "python3"
  },
  "language_info": {
   "codemirror_mode": {
    "name": "ipython",
    "version": 3
   },
   "file_extension": ".py",
   "mimetype": "text/x-python",
   "name": "python",
   "nbconvert_exporter": "python",
   "pygments_lexer": "ipython3",
   "version": "3.9.12"
  }
 },
 "nbformat": 4,
 "nbformat_minor": 5
}
