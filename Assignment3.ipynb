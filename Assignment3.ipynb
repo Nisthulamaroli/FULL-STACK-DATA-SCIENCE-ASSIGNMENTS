{
 "cells": [
  {
   "cell_type": "markdown",
   "id": "02200c88",
   "metadata": {},
   "source": [
    "1. Why are functions advantageous to have in your programs?"
   ]
  },
  {
   "cell_type": "raw",
   "id": "7ad575f2",
   "metadata": {},
   "source": [
    "Functions helps in re usability of the code. We don't have to write the same code again and again. Instead we can call a function.Function helps in making the programs shorter,easier to read and easier to update.\n"
   ]
  },
  {
   "cell_type": "markdown",
   "id": "ef45596f",
   "metadata": {},
   "source": [
    "2. When does the code in a function run: when it's specified or when it's called?"
   ]
  },
  {
   "cell_type": "raw",
   "id": "066284f2",
   "metadata": {},
   "source": [
    "The code in a function runs when it is called."
   ]
  },
  {
   "cell_type": "markdown",
   "id": "97e0c730",
   "metadata": {},
   "source": [
    "3. What statement creates a function?"
   ]
  },
  {
   "cell_type": "raw",
   "id": "f3f92133",
   "metadata": {},
   "source": [
    "def statement is used to create a function.\n",
    "def function name (parameters)\n",
    "\n",
    "Eg : def fun1(x):\n",
    "        "
   ]
  },
  {
   "cell_type": "markdown",
   "id": "559a1bff",
   "metadata": {},
   "source": [
    "4. What is the difference between a function and a function call?"
   ]
  },
  {
   "cell_type": "raw",
   "id": "2983ce77",
   "metadata": {},
   "source": [
    "Function is a procedure to obtain a particular result. Function contains def statement,function name,parameters and the code\n",
    "Function call using the function to achieve the task.Function call is used to run(execute) a function to obtain the result.\n"
   ]
  },
  {
   "cell_type": "code",
   "execution_count": 1,
   "id": "bcd61ce8",
   "metadata": {},
   "outputs": [],
   "source": [
    "# Function\n",
    "def fun1(x):\n",
    "    if x==10:\n",
    "        print(\"Hello World\")\n",
    "    else :\n",
    "        print(\"Wrong answer\")"
   ]
  },
  {
   "cell_type": "code",
   "execution_count": 3,
   "id": "3d0c8d36",
   "metadata": {},
   "outputs": [
    {
     "name": "stdout",
     "output_type": "stream",
     "text": [
      "Hello World\n",
      "Wrong answer\n"
     ]
    }
   ],
   "source": [
    "# function call\n",
    "fun1(10)\n",
    "fun1(11)"
   ]
  },
  {
   "cell_type": "markdown",
   "id": "63f5135a",
   "metadata": {},
   "source": [
    "5. How many global scopes are there in a Python program? How many local scopes?"
   ]
  },
  {
   "cell_type": "raw",
   "id": "2616f669",
   "metadata": {},
   "source": [
    "There is only one global scope for a function.Local scope is created whenever a function is called."
   ]
  },
  {
   "cell_type": "markdown",
   "id": "f8d334f0",
   "metadata": {},
   "source": [
    "6. What happens to variables in a local scope when the function call returns?"
   ]
  },
  {
   "cell_type": "raw",
   "id": "f6a80408",
   "metadata": {},
   "source": [
    "When a function call returns, the local scope variables are destroyed."
   ]
  },
  {
   "cell_type": "markdown",
   "id": "2b509572",
   "metadata": {},
   "source": [
    "7. What is the concept of a return value? Is it possible to have a return value in an expression?"
   ]
  },
  {
   "cell_type": "raw",
   "id": "44d303f3",
   "metadata": {},
   "source": [
    "Return value is a value the function call evaluates to.Yes,it is possible to have a return value in an expression."
   ]
  },
  {
   "cell_type": "markdown",
   "id": "64f4d33f",
   "metadata": {},
   "source": [
    "8. If a function does not have a return statement, what is the return value of a call to that function?"
   ]
  },
  {
   "cell_type": "raw",
   "id": "3326d137",
   "metadata": {},
   "source": [
    "None"
   ]
  },
  {
   "cell_type": "markdown",
   "id": "8d680a8f",
   "metadata": {},
   "source": [
    "9. How do you make a function variable refer to the global variable?"
   ]
  },
  {
   "cell_type": "raw",
   "id": "4b857470",
   "metadata": {},
   "source": [
    "By the use of \"global\" keyword while declaring the variables."
   ]
  },
  {
   "cell_type": "markdown",
   "id": "733ddf69",
   "metadata": {},
   "source": [
    "10. What is the data type of None?"
   ]
  },
  {
   "cell_type": "raw",
   "id": "40124907",
   "metadata": {},
   "source": [
    "None type"
   ]
  },
  {
   "cell_type": "markdown",
   "id": "7463fc36",
   "metadata": {},
   "source": [
    "11. What does the sentence import areallyourpetsnamederic do?"
   ]
  },
  {
   "cell_type": "raw",
   "id": "571651a3",
   "metadata": {},
   "source": [
    "It import a module called areallyourpetsnamederic"
   ]
  },
  {
   "cell_type": "markdown",
   "id": "ee6e3431",
   "metadata": {},
   "source": [
    "12. If you had a bacon() feature in a spam module, what would you call it after importing spam?"
   ]
  },
  {
   "cell_type": "raw",
   "id": "1d292c0e",
   "metadata": {},
   "source": [
    "I use spam.bacon()"
   ]
  },
  {
   "cell_type": "markdown",
   "id": "d3e7e5bc",
   "metadata": {},
   "source": [
    "13. What can you do to save a programme from crashing if it encounters an error?"
   ]
  },
  {
   "cell_type": "raw",
   "id": "cc2ebdbd",
   "metadata": {},
   "source": [
    "We can use try and except block."
   ]
  },
  {
   "cell_type": "markdown",
   "id": "79931784",
   "metadata": {},
   "source": [
    "14. What is the purpose of the try clause? What is the purpose of the except clause?"
   ]
  },
  {
   "cell_type": "raw",
   "id": "d6166f82",
   "metadata": {},
   "source": [
    "Try and except clause is used for the error handling in the code.If there is no error, the code in the try block will execute.If there is an error in try block, the code in the except block will execute."
   ]
  }
 ],
 "metadata": {
  "kernelspec": {
   "display_name": "Python 3 (ipykernel)",
   "language": "python",
   "name": "python3"
  },
  "language_info": {
   "codemirror_mode": {
    "name": "ipython",
    "version": 3
   },
   "file_extension": ".py",
   "mimetype": "text/x-python",
   "name": "python",
   "nbconvert_exporter": "python",
   "pygments_lexer": "ipython3",
   "version": "3.9.12"
  }
 },
 "nbformat": 4,
 "nbformat_minor": 5
}
