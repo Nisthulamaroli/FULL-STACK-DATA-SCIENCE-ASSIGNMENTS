{
 "cells": [
  {
   "cell_type": "markdown",
   "id": "df87f9db",
   "metadata": {},
   "source": [
    "1. Create a function that takes three arguments a, b, c and returns the sum of the numbers that are evenly divided by c from the range a, b inclusive ?\n",
    "Examples:\n",
    "evenly_divisible(1, 10, 20) ➞ 0 # No number between 1 and 10 can be evenly divided by 20. \n",
    "evenly_divisible(1, 10, 2) ➞ 30 # 2 + 4 + 6 + 8 + 10 = 30 \n",
    "evenly_divisible(1, 10, 3) ➞ 18 # 3 + 6 + 9 = 18"
   ]
  },
  {
   "cell_type": "code",
   "execution_count": null,
   "id": "ba849e31",
   "metadata": {},
   "outputs": [],
   "source": [
    "def evenly_divisible(a,b,c):\n",
    "    d=[]\n",
    "    for i in range(a,b+1):\n",
    "        if i%c==0:\n",
    "            d.append(i)\n",
    "    print(f'The numbers in range{a,b+1} are divisible by {c} and the sum :{sum(d)}')\n",
    "            \n",
    "evenly_divisible(1,10,20)\n",
    "evenly_divisible(1,10,2)\n",
    "evenly_divisible(1,10,3)"
   ]
  },
  {
   "cell_type": "markdown",
   "id": "9a23701c",
   "metadata": {},
   "source": [
    "2. Create a function that returns True if a given inequality expression is correct and False otherwise ?\n",
    "Examples:\n",
    "correct_signs(\"3 < 7 < 11\") ➞ True\n",
    "correct_signs(\"13 > 44 > 33 > 1\") ➞ False\n",
    "correct_signs(\"1 < 2 < 6 < 9 > 3\") ➞ True"
   ]
  },
  {
   "cell_type": "code",
   "execution_count": null,
   "id": "3980de22",
   "metadata": {},
   "outputs": [],
   "source": [
    "def checkEquality():\n",
    "    string = input('Enter the inequality: ')\n",
    "    output = eval(string)\n",
    "    print(f'{string} ➞ {output}')\n",
    "\n",
    "for x in range(3):\n",
    "    checkEquality()"
   ]
  },
  {
   "cell_type": "markdown",
   "id": "2baf5caf",
   "metadata": {},
   "source": [
    "3. Create a function that replaces all the vowels in a string with a specified character ?\n",
    "Examples:\n",
    "    replace_vowels(\"the aardvark\", \"#\") ➞ \"th# ##rdv#rk\"\n",
    "replace_vowels(\"minnie mouse\", \"?\") ➞ \"m?nn?? m??s?\"\n",
    "replace_vowels(\"shakespeare\", \"*\") ➞ \"shksp**r\""
   ]
  },
  {
   "cell_type": "code",
   "execution_count": null,
   "id": "b0cfea5b",
   "metadata": {},
   "outputs": [],
   "source": [
    "def replaceVowels():\n",
    "    vowels = ['a','e','i','o','u','A','E','I','O','U']\n",
    "    in_string = input(\"String: \")\n",
    "    in_string_copy = in_string\n",
    "    in_char = input('Replacement character: ')\n",
    "    for ele in in_string:\n",
    "        if ele in vowels:\n",
    "            in_string = in_string.replace(ele,in_char)\n",
    "    print(f'{in_string_copy} {in_char} ➞ {in_string}')\n",
    "            \n",
    "    \n",
    "for x in range(3):\n",
    "    replaceVowels()"
   ]
  },
  {
   "cell_type": "markdown",
   "id": "da4f75fb",
   "metadata": {},
   "source": [
    "4. Write a function that calculates the factorial of a number recursively.\n",
    "Examples\n",
    "factorial(5) ➞ 120\n",
    "factorial(3) ➞ 6\n",
    "factorial(1) ➞ 1\n",
    "factorial(0) ➞ 1"
   ]
  },
  {
   "cell_type": "code",
   "execution_count": null,
   "id": "929decc7",
   "metadata": {},
   "outputs": [],
   "source": [
    "def factorial(n):\n",
    "    if n==0:\n",
    "        return 1\n",
    "    else:\n",
    "        return n*factorial(n-1)\n",
    "\n",
    "factorial(5)\n",
    "\n"
   ]
  },
  {
   "cell_type": "markdown",
   "id": "021a3613",
   "metadata": {},
   "source": [
    "5. Hamming distance is the number of characters that differ between two strings ?\n",
    "To illustrate:\n",
    "String1: \"abcbba\"\n",
    "String2: \"abcbda\"\n",
    "Hamming Distance: 1 - \"b\" vs. \"d\" is the only difference.\n",
    "Create a function that computes the hamming distance between two strings.\n",
    "Examples:\n",
    "hamming_distance(\"abcde\", \"bcdef\") ➞ 5\n",
    "hamming_distance(\"abcde\", \"abcde\") ➞ 0\n",
    "hamming_distance(\"strong\", \"strung\") ➞ 1"
   ]
  },
  {
   "cell_type": "code",
   "execution_count": 1,
   "id": "2d884007",
   "metadata": {},
   "outputs": [
    {
     "name": "stdout",
     "output_type": "stream",
     "text": [
      "Enter string1:abcde\n",
      "Enter string2:bcdef\n",
      "Hamming distance between abcde and bcdef: 5\n",
      "Enter string1:abcde\n",
      "Enter string2:abcde\n",
      "Hamming distance between abcde and abcde: 0\n",
      "Enter string1:strong\n",
      "Enter string2:strung\n",
      "Hamming distance between strong and strung: 1\n"
     ]
    }
   ],
   "source": [
    "def hamming_distance():\n",
    "    a=input(\"Enter string1:\")\n",
    "    b=input(\"Enter string2:\")\n",
    "    count=0\n",
    "    if len(a)==len(b):\n",
    "        for i in range(len(a)):\n",
    "            if a[i]!=b[i]:\n",
    "                count=count+1\n",
    "        print(f'Hamming distance between {a} and {b}: {count}')\n",
    "    else:\n",
    "        print(\"Both strings are having different lengths\")\n",
    "        \n",
    "        \n",
    "for i in range(3):\n",
    "    hamming_distance()"
   ]
  },
  {
   "cell_type": "code",
   "execution_count": null,
   "id": "9a00b479",
   "metadata": {},
   "outputs": [],
   "source": []
  }
 ],
 "metadata": {
  "kernelspec": {
   "display_name": "Python 3 (ipykernel)",
   "language": "python",
   "name": "python3"
  },
  "language_info": {
   "codemirror_mode": {
    "name": "ipython",
    "version": 3
   },
   "file_extension": ".py",
   "mimetype": "text/x-python",
   "name": "python",
   "nbconvert_exporter": "python",
   "pygments_lexer": "ipython3",
   "version": "3.9.12"
  }
 },
 "nbformat": 4,
 "nbformat_minor": 5
}
